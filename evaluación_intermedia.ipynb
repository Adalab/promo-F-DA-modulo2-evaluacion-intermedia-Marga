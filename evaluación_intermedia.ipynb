{
 "cells": [
  {
   "cell_type": "markdown",
   "metadata": {},
   "source": [
    "#Evaluación intermedia Marga Obrador"
   ]
  },
  {
   "cell_type": "code",
   "execution_count": 798,
   "metadata": {},
   "outputs": [],
   "source": [
    "# Importar librerías para manipulación y análisis de datos\n",
    "# -----------------------------------------------------------------------\n",
    "import pandas as pd\n",
    "from bs4 import BeautifulSoup\n",
    "\n",
    "# Importar librerías para automatización de navegadores web\n",
    "# -----------------------------------------------------------------------\n",
    "from time import sleep\n",
    "from tqdm import tqdm\n",
    "from selenium import webdriver\n",
    "from webdriver_manager.chrome import ChromeDriverManager\n",
    "from selenium.webdriver.common.keys import Keys #send keys\n",
    "from selenium.webdriver.chrome.options import Options\n",
    "from selenium.webdriver.support.ui import Select #coger información de desplegables. \n",
    "from bs4 import BeautifulSoup\n",
    "import requests\n",
    "import pandas as pd\n",
    "import re\n",
    "\n",
    "# Importar librería para hacer solicitudes HTTP\n",
    "# -----------------------------------------------------------------------\n",
    "import requests\n",
    "\n",
    "# Importar librería para suprimir advertencias\n",
    "# -----------------------------------------------------------------------\n",
    "import warnings\n",
    "warnings.filterwarnings('ignore')\n",
    "\n",
    "from dotenv import load_dotenv\n",
    "load_dotenv()\n",
    "\n",
    "import os"
   ]
  },
  {
   "cell_type": "code",
   "execution_count": 799,
   "metadata": {},
   "outputs": [
    {
     "name": "stdout",
     "output_type": "stream",
     "text": [
      "La respuesta de la petición es: 200\n"
     ]
    }
   ],
   "source": [
    "url_turismo = \"https://turismoactiva.com/rutas-de-montana-sierra-de-gredos/\"\n",
    "res_turismo = requests.get(url_turismo)\n",
    "\n",
    "print(\"La respuesta de la petición es:\", res_turismo.status_code)"
   ]
  },
  {
   "cell_type": "code",
   "execution_count": 800,
   "metadata": {},
   "outputs": [],
   "source": [
    "sopa_turismo = BeautifulSoup(res_turismo.content, \"html.parser\")"
   ]
  },
  {
   "cell_type": "code",
   "execution_count": 801,
   "metadata": {},
   "outputs": [
    {
     "data": {
      "text/plain": [
       "'Pico Morenzon'"
      ]
     },
     "execution_count": 801,
     "metadata": {},
     "output_type": "execute_result"
    }
   ],
   "source": [
    "nombre_ruta = sopa_turismo.find_all(\"h4\", {\"class\": \"elementor-heading-title elementor-size-default\"})[0].text\n",
    "nombre_ruta"
   ]
  },
  {
   "cell_type": "code",
   "execution_count": 802,
   "metadata": {},
   "outputs": [
    {
     "data": {
      "text/plain": [
       "<div class=\"elementor-widget-container\">\n",
       "<style>/*! elementor - v3.14.0 - 26-06-2023 */\n",
       ".elementor-widget-text-editor.elementor-drop-cap-view-stacked .elementor-drop-cap{background-color:#69727d;color:#fff}.elementor-widget-text-editor.elementor-drop-cap-view-framed .elementor-drop-cap{color:#69727d;border:3px solid;background-color:transparent}.elementor-widget-text-editor:not(.elementor-drop-cap-view-default) .elementor-drop-cap{margin-top:8px}.elementor-widget-text-editor:not(.elementor-drop-cap-view-default) .elementor-drop-cap-letter{width:1em;height:1em}.elementor-widget-text-editor .elementor-drop-cap{float:left;text-align:center;line-height:1;font-size:50px}.elementor-widget-text-editor .elementor-drop-cap-letter{display:inline-block}</style> <h4><span style=\"color: #fbfdf8;\">Llevamos más de 12 años realizando actividades de turismo activo, aventura y ocio, para particulares, colegios y campamentos.</span></h4><p class=\"p1\">Nuestro objetivo es vuestro disfrute y seguridad, transmitiendo nuestro respeto al medio natural, realizando diferentes actividades de aventura y ocio.</p><p class=\"p1\">Turismo Activa cuenta con un equipo de profesionales altamente cualificados y experimentados en deportes de aventura, que están comprometidos con la seguridad y la satisfacción de sus clientes. Además, la empresa utiliza equipos y materiales de alta calidad para garantizar la seguridad de los participantes en sus actividades.</p> </div>"
      ]
     },
     "execution_count": 802,
     "metadata": {},
     "output_type": "execute_result"
    }
   ],
   "source": [
    "listado_specs = sopa_turismo.find_all(\"div\", {\"class\": \"elementor-widget-container\"})[4]\n",
    "\n",
    "listado_specs"
   ]
  },
  {
   "cell_type": "code",
   "execution_count": 803,
   "metadata": {},
   "outputs": [
    {
     "data": {
      "text/plain": [
       "<div class=\"elementor-widget-wrap elementor-element-populated\">\n",
       "<div class=\"elementor-element elementor-element-8a9fba5 elementor-widget elementor-widget-heading\" data-element_type=\"widget\" data-id=\"8a9fba5\" data-widget_type=\"heading.default\">\n",
       "<div class=\"elementor-widget-container\">\n",
       "<h4 class=\"elementor-heading-title elementor-size-default\">Pico Morenzon</h4> </div>\n",
       "</div>\n",
       "<div class=\"elementor-element elementor-element-35a859e6 elementor-widget elementor-widget-text-editor\" data-element_type=\"widget\" data-id=\"35a859e6\" data-widget_type=\"text-editor.default\">\n",
       "<div class=\"elementor-widget-container\">\n",
       "<ul style=\"font-size: 16.875px; font-style: normal;\">\n",
       "<li style=\"font-size: 16.875px;\"><strong>Donde se realizan: </strong>Sierra de Gredos, salida desde la Plataforma de Gredos. Sector Central</li>\n",
       "<li style=\"font-size: 16.875px;\"><strong>Tipo de ruta: </strong>circular.</li>\n",
       "<li style=\"font-size: 16.875px;\"><strong>Duración:</strong> 4 horas.</li>\n",
       "<li style=\"font-size: 16.875px;\"><strong>Km</strong>: 10</li>\n",
       "<li style=\"font-size: 16.875px;\"><strong>Dificultad Técnica:</strong> baja. (Dependerá de la estación del año).</li>\n",
       "<li style=\"font-size: 16.875px;\"><strong>Esfuerzo:</strong> bajo – medio</li>\n",
       "<li style=\"font-size: 16.875px;\"><strong>Personas mínimas: </strong>4 personas.</li>\n",
       "<li style=\"font-size: 16.875px;\"><strong>Puntos de interés:</strong> Circo de Gredos, valle del Tietar, Refugio del Rey,  paisajes impresionante, avistamiento de animales, Circo de montaña.</li>\n",
       "<li style=\"font-size: 16.875px;\"><strong>Época: </strong>Anua</li>\n",
       "<li style=\"font-size: 16.875px;\"><strong>Precio:</strong> 30€/ persona actividad sin nieve, 40€/persona actividad invernal (preguntar precio para grupos 10 o superior)</li>\n",
       "</ul>\n",
       "<h4 class=\"has-text-color\" style=\"font-style: normal; color: #077863; letter-spacing: normal; word-spacing: 0px;\"><strong>Descripción: </strong></h4>\n",
       "<p style=\"font-size: 16.875px; font-style: normal;\">Una ruta perfecta para iniciarse en el mundo de la montaña, saldremos de la plataforma de Gredos, subiendo por Prado Pozas donde se encuentra el refugio de Reguero Llano, y empezar la subida al balcón de Gredos (Pico Morezon) una de las mejores vistas del Circo de Gredos y el valle del Tietar, podremos ver picos tan lejanos como Lo Montes de Toledo y La Mira, con el Pico Almanzor justo delante de nosotros, para bajar por el mítico refugio el Rey.</p> </div>\n",
       "</div>\n",
       "</div>"
      ]
     },
     "execution_count": 803,
     "metadata": {},
     "output_type": "execute_result"
    }
   ],
   "source": [
    "\n",
    "specs = sopa_turismo.find_all(\"div\", {\"class\": \"elementor-widget-wrap elementor-element-populated\"})[7]\n",
    "\n",
    "specs"
   ]
  },
  {
   "cell_type": "code",
   "execution_count": 833,
   "metadata": {},
   "outputs": [
    {
     "data": {
      "text/plain": [
       "<div class=\"elementor-widget-wrap elementor-element-populated\">\n",
       "<div class=\"elementor-element elementor-element-8a9fba5 elementor-widget elementor-widget-heading\" data-element_type=\"widget\" data-id=\"8a9fba5\" data-widget_type=\"heading.default\">\n",
       "<div class=\"elementor-widget-container\">\n",
       "<h4 class=\"elementor-heading-title elementor-size-default\">Pico Morenzon</h4> </div>\n",
       "</div>\n",
       "<div class=\"elementor-element elementor-element-35a859e6 elementor-widget elementor-widget-text-editor\" data-element_type=\"widget\" data-id=\"35a859e6\" data-widget_type=\"text-editor.default\">\n",
       "<div class=\"elementor-widget-container\">\n",
       "<ul style=\"font-size: 16.875px; font-style: normal;\">\n",
       "<li style=\"font-size: 16.875px;\"><strong>Donde se realizan: </strong>Sierra de Gredos, salida desde la Plataforma de Gredos. Sector Central</li>\n",
       "<li style=\"font-size: 16.875px;\"><strong>Tipo de ruta: </strong>circular.</li>\n",
       "<li style=\"font-size: 16.875px;\"><strong>Duración:</strong> 4 horas.</li>\n",
       "<li style=\"font-size: 16.875px;\"><strong>Km</strong>: 10</li>\n",
       "<li style=\"font-size: 16.875px;\"><strong>Dificultad Técnica:</strong> baja. (Dependerá de la estación del año).</li>\n",
       "<li style=\"font-size: 16.875px;\"><strong>Esfuerzo:</strong> bajo – medio</li>\n",
       "<li style=\"font-size: 16.875px;\"><strong>Personas mínimas: </strong>4 personas.</li>\n",
       "<li style=\"font-size: 16.875px;\"><strong>Puntos de interés:</strong> Circo de Gredos, valle del Tietar, Refugio del Rey,  paisajes impresionante, avistamiento de animales, Circo de montaña.</li>\n",
       "<li style=\"font-size: 16.875px;\"><strong>Época: </strong>Anua</li>\n",
       "<li style=\"font-size: 16.875px;\"><strong>Precio:</strong> 30€/ persona actividad sin nieve, 40€/persona actividad invernal (preguntar precio para grupos 10 o superior)</li>\n",
       "</ul>\n",
       "<h4 class=\"has-text-color\" style=\"font-style: normal; color: #077863; letter-spacing: normal; word-spacing: 0px;\"><strong>Descripción: </strong></h4>\n",
       "<p style=\"font-size: 16.875px; font-style: normal;\">Una ruta perfecta para iniciarse en el mundo de la montaña, saldremos de la plataforma de Gredos, subiendo por Prado Pozas donde se encuentra el refugio de Reguero Llano, y empezar la subida al balcón de Gredos (Pico Morezon) una de las mejores vistas del Circo de Gredos y el valle del Tietar, podremos ver picos tan lejanos como Lo Montes de Toledo y La Mira, con el Pico Almanzor justo delante de nosotros, para bajar por el mítico refugio el Rey.</p> </div>\n",
       "</div>\n",
       "</div>"
      ]
     },
     "execution_count": 833,
     "metadata": {},
     "output_type": "execute_result"
    }
   ],
   "source": [
    "titulo = sopa_turismo.find_all(\"div\", {\"class\": \"elementor-widget-wrap elementor-element-populated\"})[7]\n",
    "\n",
    "specs"
   ]
  },
  {
   "cell_type": "code",
   "execution_count": 834,
   "metadata": {},
   "outputs": [
    {
     "data": {
      "text/plain": [
       "<p style=\"font-size: 16.875px; font-style: normal;\">Una ruta perfecta para iniciarse en el mundo de la montaña, saldremos de la plataforma de Gredos, subiendo por Prado Pozas donde se encuentra el refugio de Reguero Llano, y empezar la subida al balcón de Gredos (Pico Morezon) una de las mejores vistas del Circo de Gredos y el valle del Tietar, podremos ver picos tan lejanos como Lo Montes de Toledo y La Mira, con el Pico Almanzor justo delante de nosotros, para bajar por el mítico refugio el Rey.</p>"
      ]
     },
     "execution_count": 834,
     "metadata": {},
     "output_type": "execute_result"
    }
   ],
   "source": [
    "descripcion = sopa_turismo.find_all(\"p\", {\"style\": \"font-size: 16.875px; font-style: normal;\"})[4]\n",
    "descripcion"
   ]
  },
  {
   "cell_type": "code",
   "execution_count": 836,
   "metadata": {},
   "outputs": [],
   "source": [
    "lista_nueva = []\n",
    "\n",
    "for elemento in sopa_turismo.findAll(\"div\", {\"class\": \"elementor-widget-container\"}):\n",
    " lista_nueva.append(elemento.text.strip())"
   ]
  },
  {
   "cell_type": "code",
   "execution_count": 837,
   "metadata": {},
   "outputs": [
    {
     "data": {
      "text/plain": [
       "15"
      ]
     },
     "execution_count": 837,
     "metadata": {},
     "output_type": "execute_result"
    }
   ],
   "source": [
    "lista_nueva.index('Pico Morenzon')"
   ]
  },
  {
   "cell_type": "code",
   "execution_count": 838,
   "metadata": {},
   "outputs": [
    {
     "data": {
      "text/plain": [
       "['Pico Morenzon',\n",
       " 'Donde se realizan:\\xa0Sierra de Gredos, salida desde la Plataforma de Gredos. Sector Central\\nTipo de ruta:\\xa0circular.\\nDuración:\\xa04 horas.\\nKm: 10\\nDificultad Técnica:\\xa0baja. (Dependerá de la estación del año).\\nEsfuerzo:\\xa0bajo – medio\\nPersonas mínimas:\\xa04 personas.\\nPuntos de interés:\\xa0Circo de Gredos, valle del Tietar, Refugio del Rey,\\xa0 paisajes impresionante, avistamiento de animales, Circo de montaña.\\nÉpoca:\\xa0Anua\\nPrecio:\\xa030€/ persona actividad sin nieve, 40€/persona actividad invernal (preguntar precio para grupos 10 o superior)\\n\\nDescripción:\\xa0\\nUna ruta perfecta para iniciarse en el mundo de la montaña, saldremos de la plataforma de Gredos, subiendo por Prado Pozas donde se encuentra el refugio de Reguero Llano, y empezar la subida al balcón de Gredos (Pico Morezon) una de las mejores vistas del Circo de Gredos y el valle del Tietar, podremos ver picos tan lejanos como Lo Montes de Toledo y La Mira, con el Pico Almanzor justo delante de nosotros, para bajar por el mítico refugio el Rey.',\n",
       " '',\n",
       " 'Pico de la Mira',\n",
       " 'Donde se realizan:\\xa0Sierra de Gredos, salida desde la Plataforma de Gredos. Sector Central\\nTipo de ruta: Ida y vuelta.\\nDuración:\\xa07 horas.\\nkm: 16\\nDificultad técnica:\\xa0Media. (Dependerá de la estación del año).\\nEsfuerzo: Medio\\nPersonas mínimas:\\xa04 personas.\\nPuntos de interés:\\xa0Vistas de Galayos, valle del Tietar, Circo de Gredos,\\xa0 paisajes impresionante, avistamiento de animales, Circo de montaña.\\nÉpoca: Anual\\nPrecio: 30€/ persona actividad sin nieve, 40€/persona actividad invernal (preguntar precio para grupos 10 o superior)\\n\\n\\n\\nDescripción:\\nUna ruta perfecta para iniciarse en Gredos, siendo uno de los picos más visitados.\\nEl Pico de la Mira, desde este punto tendremos la mejores vistas de Galayos y el Puerto de Candeleda, con los picos del Circo de Gredos detrás de nosotros y viendo el espectacular valle del Tietar al Suereste.',\n",
       " '',\n",
       " 'Pico Almanzor',\n",
       " 'Donde se realizan:\\xa0Sierra de Gredos, salida desde la Plataforma de Gredos. Sector Central\\nTipo de ruta: Ida y vuelta.\\nDuración:\\xa014 horas.\\nkm: 22\\nDificultad técnica:\\xa0Alta. (Dependerá de la estación del año).\\nEsfuerzo: Alto\\nPersonas mínimas: 1\\xa0personas.\\xa0\\nPuntos de interés:\\xa0Subida al pico mas alto del sistema central, Laguna Grande.\\nÉpoca: Anual\\n\\nPrecio:\\n\\nAlmanzor estival de mayo – octubre:\\n1 persona 250€/p, 2 personas 150€/p,\\xa03 personas 120€/p, 4 personas 110€/pConsulta precio para grupos a partir de 10 personas\\n\\nAlmanzor Invernal de Noviembre – Mayo:\\nEn invierno, es obligatoria la pernocta en el refugio el día antes. \\xa0(La pernocta no está incluida en el precio)\\n1 persona 270€/p, 2 personas 180€/p,\\xa03 personas 160€/p, 4 personas 150€/p\\n\\nDescripción:\\nSubir al pico Almanzor es una actividad impresionante, ya solo por ser el pico más alto del Sistema Central, dándonos unas vistas de todo el sistema central únicas. Pero para llegar al Almanzor tendremos que realizar una actividad dura con grandes desniveles y terreno técnico, pasando por paisajes impresionantes, como Laguna Grande en el Circo de Gredos, la Canal del Crampon o la Poza Anton.\\n\\n\\nEsta actividad se puede realizar en un solo día en verano, pero todo cambia en condiciones invernales ya que es preferible dormir en el refugio de Laguna Grande la noche anterior a la ascensión al Almanzor.',\n",
       " '',\n",
       " 'Laguna Grande',\n",
       " 'Donde se realizan:\\xa0Sierra de Gredos, Plataforma de Gredos, sector central.\\nTipo de ruta: Ida y vuelta.\\nDuración:\\xa05 horas.\\nKm: 12\\nDificultad técnica:\\xa0baja. (Dependerá de la estación del año).\\nEsfuerzo: Bajo – medio.\\nPersonas mínimas:\\xa04 personas.\\nPuntos de interés:\\xa0Vistas del Circo de Gredos. Pico del Almanzor, Laguna Grande helada en invierno, Pozas de agua cristalina, refugio Laguna Grande.\\nÉpoca: Anual\\nPrecio: 30€/ persona actividad sin nieve, 40€/persona actividad invernal (preguntar precio para grupos 10 o superior)\\n\\nDescripción:\\nRuta conocida por todos, La Laguna Grande de Gredos y el Circo de Gredos, es una ruta que si no hemos estado seguramente hallamos oído hablar de ella. Esta zona constituye unos de los centros neurológicos del Alpinismo Nacional, donde entre sus montañas se han formado grandes montañeros.',\n",
       " '',\n",
       " 'Cinco Lagunas',\n",
       " 'Donde se realizan:\\xa0Sierra de Gredos, salida desde Navalperal del Tormes. Sector central.\\nTipo de ruta: Ida y vuelta.\\nDuración:\\xa09 horas.\\nKm: 25\\nDificultad técnica:\\xa0media. (Dependerá de la estación del año).\\nEsfuerzo: alto\\nPersonas mínimas:\\xa04 personas.\\nPuntos de interés:\\xa0Lagunas, cascadas, animales, vegetación.\\nÉpoca: Anual\\nPrecio: 40€/ persona actividad sin nieve, 60€/persona actividad invernal (preguntar precio para grupos 10 o superior)\\n\\n\\n\\nDescripción:\\nSaliendo desde Navalperal del Tormes, nos dirigimos hacia la trasera del Circo de Gredos, El Circo de Cinco Lagunas, siguiendo La Garganta de los Pinos, una ruta dura, en la que tendremos que madrugar. (Posibilidad de realizar en dos días y dormir en refugio, preguntar precio).\\nCinco Lagunas sigue siendo uno de esos sitios de Gredos sonde todavía puedes encontrarte a ti mismo, un sitio de soledad, donde muy pocos se atreven adentrarse, ya sea por la dureza de la actividad o el desconocimiento de la misma.',\n",
       " '',\n",
       " 'Circo de  Hoya Moros',\n",
       " 'Donde se realizan:\\xa0Sierra de Bejar, salida desde la Plataforma del Travieso, sector occidental\\nTipo de ruta: Ida y vuelta. (Posibilidad de circular por la Dehesa)\\nDuración:\\xa07 horas.\\nkm: 12\\nDificultad técnica:\\xa0Media. (Dependerá de la estación del año).\\nEsfuerzo: medio.\\nPersonas mínimas:\\xa04 personas.\\nPuntos de interés:\\xa0Nacimiento del Rio Cuerpo de Hombre, vistas del Circo. Impresionantes vistas de los diferentes sectores de Gredos y la meseta.\\nÉpoca: Anual\\nPrecio: 30€/ persona actividad sin nieve, 40€/persona actividad invernal (preguntar precio para grupos 10 o superior)\\n\\n\\nDescripción:\\nUna de las rutas más características de la Sierra de Béjar, en la que disfrutamos, de las vistas de toda la meseta, pasando por uno de los pueblos más característicos de la zona de Béjar, Candelario y como premio el Circo de Hoya Moros uno de los sitio mas especiales de todo Gredos, sonde nace el río Cuerpo de Hombre, dejando a su paso unos preciosos meandros, esta actividad en imprescindible para conocer la Sierra de Béjar.',\n",
       " '',\n",
       " 'Canchal Negro',\n",
       " 'Localización: Sierra de Bejar, Gredos Oeste\\xa0(Salamanca)\\nTiempo: 3,5 horas\\nDificultad técnica: baja\\nEsfuerzo: bajo\\nKm: 8 km.\\nPunto más alto: 2355 metros\\nPrecio: \\xa025€\\n\\n\\n\\nDescripción:\\nSe trata de una ruta facil, bonita y apta para todo tipo de públicos y perfecta para iniciarse en el mundo de la montaña. En esta ruta con raquetas de nieve recorremos los circos de la Cardosa y Becedas\\xa0 subiendo a uno de los puntos más altos de Salamanca, el Canchal Negro, situado en la Cuerda del Calvitero, donde tenemos vistas del los macizos de la Sierra de Gredos, Central y Occidental, viendo los picos más característicos, como el Almanzor, La Covacha y La Ceja.',\n",
       " '',\n",
       " 'El Calvitero',\n",
       " 'Localización: Sierra de Bejar, Gredos Oeste\\xa0(Salamanca)\\nTiempo: 4,5 horas\\nDificultad técnica: baja – media\\nEsfuerzo: Medio\\nKm: 14 km.\\nPunto más alto: 2400 metros\\nPrecio: 30€\\n\\n\\n\\nDescripción:\\nUn clásico de la Sierra de Béjar, subir al Calvitero es tradición en esta sierra tan hermosa. Es una ruta facil técnicamente, un poco más dura, que el Canchal Negro por su distancia pero técnicamente se parecen mucho. En esta ruta tendremos una vistas espectaculares de Gredos, sierra de Francia y Gata y nos acercaremos a ver el Circo de Hoya Moros que nos quedara al Oeste.',\n",
       " '',\n",
       " 'Canchal de la Ceja, Torreon, Calvitero',\n",
       " 'Donde se realizan:\\xa0Sierra de Béjar, salida desde la plataforma del travieso. Sector occidental.\\nTipo de ruta: circular.\\nDuración: 8 horas.\\nkm: 16\\nDificultad técnica:\\xa0medio. (Dependerá de la estación del año).\\nEsfuerzo: Alto\\nPersonas mínimas:\\xa04 personas. (invierno máximo 2 personas)\\nPuntos de interés:\\xa0Circo de Hoya Moros, Canchal de la Ceja, Calvitero, Los Hermanitos, Paisajes, Lagunas.\\nÉpoca: Anual\\nPrecio: 30€/ persona actividad sin nieve, 40€/persona actividad invernal (preguntar precio para grupos 10 o superior)\\n\\n\\n\\nDescripción:\\nEl Calvitero, Canchal de La Ceja y Torreón, la ruta para conocer toda la Sierra de Béjar, una actividad completa para recorrer todos los picos importantes, con la mejores vistas.\\n\\n\\nLa actividad comienza en la plataforma de las estación de Esquí de la Covatilla, recorriendo toda la cuerda del Calvitero, En esta ruta recorreremos los puntos más altos de la provincia de Salamanca, en Canchal de la Ceja con 2428 metros de altitud y el Punto mas alto de Extremadura, el Torreón (Calviatero)con 2400 metros. Durante la travesía veremos el Circo de Hoya Moros, lugar mágico para la escalada, donde nace el río Cuerpo de Hombre, con majestuosos picos, Los Dos Hermanitos, lagunas como las del Trampal, que las dejaremos al sureste y iremos viendo las Sierras de nos rodean, Sierra de Francia al Oeste, el Circo de Gredos al Oeste, los Valles de Ambroz al sur-oeste para terminar en la Cima de Torreón justo en el comienzo del Valle del Jerte al Sur-Este.',\n",
       " '',\n",
       " 'Laguna de Barco',\n",
       " 'Donde se realizan:\\xa0Sierra de Gredos, aparcamiento carretera Nava de Barco. Sector Central.\\nTipo de ruta: Ida y vuelta.\\nDuración:\\xa07 horas.\\nKm: 21\\nDificultad técnica:\\xa0baja. (Dependerá de la estación del año).\\nEsfuerzo: medio.\\nPersonas mínimas:\\xa04 personas.\\nPuntos de interés:\\xa0Vistas del Circo. Pico de La Covacha, El Juraco, Azagaya.\\nÉpoca: Anual\\nPrecio: 30€/ persona actividad sin nieve, 40€/persona actividad invernal (preguntar precio para grupos 10 o superior)\\n\\n\\n\\nDescripción:\\nNo es una ruta muy transitada, al contrario que el vecino y tan concurrido Circo de Gredos, a pesar de tener poco que envidiar a tan afamado lugar. El circo lo forman algunas de las cumbres más importantes de la Sierra de Gredos como son la puntiaguda cumbre de Las Azagayas (2.367 m.), el pico Covacha (2.395 m.) o El Juraco (2.383 m.)\\n\\n\\nLa Laguna de Galín Gómez, también conocida como Laguna del Barco, se asienta a los pies de un bonito circo de origen glaciar situado en la vertiente norte de la Sierra de Gredos. La ruta de subida hasta ésta laguna desde el Puerto de Umbrías está señalizada como sendero.',\n",
       " '',\n",
       " 'Tres Lagunas, La Nava, Barco y Caballeros',\n",
       " 'Donde se realizan:\\xa0 Sierra de Gredos, aparcamiento carretera Nava de Barco. Sector Central.\\nTipo de ruta: Circular\\nDuración:\\xa02 días, una noche.\\nkm: 26\\nDificultad técnica:\\xa0alta. (Dependerá de la estación del año).\\nEsfuerzo: Muy alto\\nPersonas mínimas:\\xa02 personas.\\nPuntos de interés:\\xa0Ascensión picos característicos de la zona, vista de las tres Lagunas, vivac de montaña.\\nÉpoca: Primavera – otoño.\\nMaterial necesario: Necesitaremos equipo propio de montaña, Mochila 50l, botas de montaña de caña alta, ropa técnica y de abrigo, saco de dormir, funda vivac.\\nIncluye:\\xa0Material técnico, arnés, casco, cuerdas, mosquetones, crampones, raquetas, casco…\\nPrecio: 150€/p.\\n\\n\\n\\nDescripción:\\nRealizaremos una ruta de dos días y una noche recorriendo diferentes lagunas y picos de la Sierra de Gredos durmiendo en los refugios que nos encontramos a nuestro paso y disfrutando de un paisaje inolvidable. las lagunas que visitamos son Laguna de Barco o Galin Gomez, Laguna de la Nava y Laguna de los Caballeros. Una aventura que no olvidareis.',\n",
       " '',\n",
       " 'Laguna de los Caballeros',\n",
       " 'Donde se realizan:\\xa0Sierra de Gredos, salida desde Navalguijo Sector Central\\nTipo de ruta: Ida y vuelta.\\nDuración:\\xa08 horas.\\nkm: 25\\nDificultad técnica:\\xa0baja. (Dependerá de la estación del año).\\nEsfuerzo: Alto\\nPersonas mínimas:\\xa04 personas.\\nPuntos de interés:\\xa0Ver el pico mas alto Extremadura, Laguna del Los Caballeros, avistamiento animales, Barrancos, Cascada 100 metros.\\nÉpoca: Anual\\nPrecio: 40€/P. Precios actividad invernal (Consultar) posibilidad de subida a las Covacha. Precio para grupos reducidos de 10 personas o más pedir presupuesto.\\n\\n\\n\\nDescripción:\\nUna ruta impresionante y muy desconocidas, con uno de los paisajes mas bestias de toda la Sierra de Gredos, con Valles cargados de magia y una cascada de mas de 100 metros de altura. En esta ruta tendremos que salir a primera hora del día ya que , no siendo difícil técnicamente, requiere mucho tiempo en realizar.',\n",
       " '',\n",
       " 'Laguna de la Nava',\n",
       " 'Donde se realizan:\\xa0Sierra de Gredos, salida desde la carretera de Nava de Barco. Sector Central\\nTipo de ruta: Ida y vuelta.\\nDuración: 8 horas.\\nkm: 19\\nDificultad técnica:\\xa0medio. (Dependerá de la estación del año).\\nEsfuerzo: Alto\\nPersonas mínimas:\\xa04 personas. (invierno máximo 2 personas)\\nPuntos de interés:\\xa0Laguna de la Nava, Avistamiento de animales, barrancos, pozas, cascadas.\\nÉpoca: Anual\\nPrecio: 30€/ persona actividad sin nieve, 40€/persona actividad invernal (preguntar precio para grupos 10 o superior)\\n\\n\\n\\nDescripción:\\nSaliendo de Nava de barco, nos vamos metiendo en lo más profundo de Gredos, un paisaje que nos envuelve, mientras que sorteamos ríos y caminamos entre terreno de montaña. Esta laguna encierra un circo impresionante y acogedor al que muy pocos visitantes o montañeros se acercan por su lejanía.']"
      ]
     },
     "execution_count": 838,
     "metadata": {},
     "output_type": "execute_result"
    }
   ],
   "source": [
    "lista_nueva[15:53]"
   ]
  },
  {
   "cell_type": "code",
   "execution_count": 839,
   "metadata": {},
   "outputs": [],
   "source": [
    "lista_nombres = (lista_nueva[0:-1:3])"
   ]
  },
  {
   "cell_type": "code",
   "execution_count": 840,
   "metadata": {},
   "outputs": [
    {
     "data": {
      "text/plain": [
       "['Pico Morenzon',\n",
       " 'Pico de la Mira',\n",
       " 'Pico Almanzor',\n",
       " 'Laguna Grande',\n",
       " 'Cinco Lagunas',\n",
       " 'Circo de  Hoya Moros',\n",
       " 'Canchal Negro',\n",
       " 'El Calvitero',\n",
       " 'Canchal de la Ceja, Torreon, Calvitero',\n",
       " 'Laguna de Barco',\n",
       " 'Tres Lagunas, La Nava, Barco y Caballeros',\n",
       " 'Laguna de los Caballeros',\n",
       " 'Laguna de la Nava']"
      ]
     },
     "execution_count": 840,
     "metadata": {},
     "output_type": "execute_result"
    }
   ],
   "source": [
    "lista_nombres_limpia = lista_nombres[5:18]\n",
    "lista_nombres_limpia"
   ]
  },
  {
   "cell_type": "code",
   "execution_count": 841,
   "metadata": {},
   "outputs": [
    {
     "data": {
      "text/plain": [
       "['Actividades                            \\n\\n \\n\\n\\n\\nEscalada\\n\\n\\nVías ferratas\\n\\n\\nPuenting en Salamanca\\n\\n\\nKayaks y piraguas\\n\\n\\nPaddle surf river\\n\\n\\nRafting\\n\\n\\nBarranquismo\\n\\n\\n\\n\\r\\n                                                Senderismo y trekking\\n\\n \\n\\n\\n\\nRutas de montaña Sierra de Gredos\\n\\n\\nSenderismo Sierra de Francia, Batuecas\\n\\n\\nSenderismo Arribes del Duero Salamanca\\n\\n\\n\\n\\nRaquetas de nieve\\n\\n\\nRocódromo y tirolina portátil\\n\\n\\nParque de cuerdas\\n\\n\\n\\n\\r\\n                                                Juegos hinchables\\n\\n \\n\\n\\n\\nWaterbolas, bolas para caminar por el agua\\n\\n\\nBumper football\\n\\n\\n\\n\\n\\n\\r\\n                                                Tiro con arco\\n\\n \\n\\n\\n\\nArchery battle\\n\\n\\n\\n\\n\\n\\n\\n\\r\\n                                Grupos                            \\n\\n \\n\\n\\n\\nActividades para escolares y campamentos\\n\\n\\nPacks despedidas de solter@\\n\\n\\n\\n\\n\\n\\r\\n                                Cursos                            \\n\\n \\n\\n\\n\\nCurso progresión por vías ferratas\\n\\n\\n\\n\\r\\n                                                Alpinismo en Gredos\\n\\n \\n\\n\\n\\nCurso alpinismo básico 8h\\n\\n\\nCurso iniciación alpinismo 18h\\n\\n\\n\\n\\n\\n\\r\\n                                                Cursos de escalada\\n\\n \\n\\n\\n\\nCurso iniciación escalada 6h\\n\\n\\nCurso iniciación escalada 18h\\n\\n\\nCurso de escalada nivel 2 18h\\n\\n\\n\\n\\n\\n\\nCalendario\\n\\n\\nContacto\\n\\n\\nBlog\\n\\n\\n\\n\\n\\n\\r\\n                                Actividades                            \\n \\n\\n\\nEscalada\\n\\n\\nVías ferratas\\n\\n\\nPuenting en Salamanca\\n\\n\\nKayaks y piraguas\\n\\n\\nPaddle surf river\\n\\n\\nRafting\\n\\n\\nBarranquismo\\n\\n\\n\\n\\r\\n                                                Senderismo y trekking\\n\\n \\n\\n\\n\\nRutas de montaña Sierra de Gredos\\n\\n\\nSenderismo Sierra de Francia, Batuecas\\n\\n\\nSenderismo Arribes del Duero Salamanca\\n\\n\\n\\n\\nRaquetas de nieve\\n\\n\\nRocódromo y tirolina portátil\\n\\n\\nParque de cuerdas\\n\\n\\n\\n\\r\\n                                                Juegos hinchables\\n\\n \\n\\n\\n\\nWaterbolas, bolas para caminar por el agua\\n\\n\\nBumper football\\n\\n\\n\\n\\n\\n\\r\\n                                                Tiro con arco\\n\\n \\n\\n\\n\\nArchery battle\\n\\n\\n\\n\\n\\n\\n\\n\\r\\n                                Grupos                            \\n \\n\\n\\nActividades para escolares y campamentos\\n\\n\\nPacks despedidas de solter@\\n\\n\\n\\n\\n\\n\\r\\n                                Cursos                            \\n \\n\\n\\nCurso progresión por vías ferratas\\n\\n\\n\\n\\r\\n                                                Alpinismo en Gredos\\n\\n \\n\\n\\n\\nCurso alpinismo básico 8h\\n\\n\\nCurso iniciación alpinismo 18h\\n\\n\\n\\n\\n\\n\\r\\n                                                Cursos de escalada\\n\\n \\n\\n\\n\\nCurso iniciación escalada 6h\\n\\n\\nCurso iniciación escalada 18h\\n\\n\\nCurso de escalada nivel 2 18h\\n\\n\\n\\n\\n\\n\\nCalendario\\n\\n\\nContacto\\n\\n\\nBlog',\n",
       " 'Llevamos más de 12 años realizando actividades de turismo activo, aventura y ocio, para particulares, colegios y campamentos.Nuestro objetivo es vuestro disfrute y seguridad, transmitiendo nuestro respeto al medio natural, realizando diferentes actividades de aventura y ocio.Turismo Activa cuenta con un equipo de profesionales altamente cualificados y experimentados en deportes de aventura, que están comprometidos con la seguridad y la satisfacción de sus clientes. Además, la empresa utiliza equipos y materiales de alta calidad para garantizar la seguridad de los participantes en sus actividades.',\n",
       " 'Finca Alameda Vieja, 7, Ciudad Rodrigo, Salamanca.',\n",
       " '',\n",
       " 'En este apartado te descubrimos parte de las rutas que realizamos por los tres sectores de la Sierra de Gredos, El Oriental, Central y Occidental durante todo el año, donde se incluyen las Sierras de Barco, Sierra de Béjar, Circo de Gredos, Galayos, Puerto del Pico, Torozo …\\nAparte de las rutas que aquí especificamos, podemos elaborar rutas con un perfil especifico para grupos, estudiando el grado de dificultad física y técnica que requiere el usuario.\\nTodas las rutas incluyen el material técnico para poder realizar con seguridad, crampones, piolet, raquetas, cascos, arnes… como seguros de RC y accidentes.\\nPregúntanos de manera detallada los datos de cada actividad que quieras realzar en Gredos, ya que puede variar la dificultad, el material y el esfuerzo requerido para la actividad dependiendo la época del año.\\nMaterial obligatorio:\\n\\nBotas de montaña de caña alta con\\xa0 membrana Gore-Tex o similar (dependiendo la actividad o fecha del año se exigirá bota semirrígida)\\nGafas de sol (aconsejable factor 4 y gafas de ventisca en condiciones invernales)\\nRopa de abrigo, (Tres Capas) en invierno.\\nCantimplora o similar, mínimo litro y medio por persona.\\nGuantes gruesos y finos con membrana impermeable.\\nCamiseta, calcetines de recambio.\\nCrema solar\\nMochila de montaña, mínimo 20L.\\nBocadillo, fruta, barritas.',\n",
       " 'Donde se realizan:\\xa0Sierra de Gredos, salida desde la Plataforma de Gredos. Sector Central\\nTipo de ruta:\\xa0circular.\\nDuración:\\xa04 horas.\\nKm: 10\\nDificultad Técnica:\\xa0baja. (Dependerá de la estación del año).\\nEsfuerzo:\\xa0bajo – medio\\nPersonas mínimas:\\xa04 personas.\\nPuntos de interés:\\xa0Circo de Gredos, valle del Tietar, Refugio del Rey,\\xa0 paisajes impresionante, avistamiento de animales, Circo de montaña.\\nÉpoca:\\xa0Anua\\nPrecio:\\xa030€/ persona actividad sin nieve, 40€/persona actividad invernal (preguntar precio para grupos 10 o superior)\\n\\nDescripción:\\xa0\\nUna ruta perfecta para iniciarse en el mundo de la montaña, saldremos de la plataforma de Gredos, subiendo por Prado Pozas donde se encuentra el refugio de Reguero Llano, y empezar la subida al balcón de Gredos (Pico Morezon) una de las mejores vistas del Circo de Gredos y el valle del Tietar, podremos ver picos tan lejanos como Lo Montes de Toledo y La Mira, con el Pico Almanzor justo delante de nosotros, para bajar por el mítico refugio el Rey.',\n",
       " 'Donde se realizan:\\xa0Sierra de Gredos, salida desde la Plataforma de Gredos. Sector Central\\nTipo de ruta: Ida y vuelta.\\nDuración:\\xa07 horas.\\nkm: 16\\nDificultad técnica:\\xa0Media. (Dependerá de la estación del año).\\nEsfuerzo: Medio\\nPersonas mínimas:\\xa04 personas.\\nPuntos de interés:\\xa0Vistas de Galayos, valle del Tietar, Circo de Gredos,\\xa0 paisajes impresionante, avistamiento de animales, Circo de montaña.\\nÉpoca: Anual\\nPrecio: 30€/ persona actividad sin nieve, 40€/persona actividad invernal (preguntar precio para grupos 10 o superior)\\n\\n\\n\\nDescripción:\\nUna ruta perfecta para iniciarse en Gredos, siendo uno de los picos más visitados.\\nEl Pico de la Mira, desde este punto tendremos la mejores vistas de Galayos y el Puerto de Candeleda, con los picos del Circo de Gredos detrás de nosotros y viendo el espectacular valle del Tietar al Suereste.',\n",
       " 'Donde se realizan:\\xa0Sierra de Gredos, salida desde la Plataforma de Gredos. Sector Central\\nTipo de ruta: Ida y vuelta.\\nDuración:\\xa014 horas.\\nkm: 22\\nDificultad técnica:\\xa0Alta. (Dependerá de la estación del año).\\nEsfuerzo: Alto\\nPersonas mínimas: 1\\xa0personas.\\xa0\\nPuntos de interés:\\xa0Subida al pico mas alto del sistema central, Laguna Grande.\\nÉpoca: Anual\\n\\nPrecio:\\n\\nAlmanzor estival de mayo – octubre:\\n1 persona 250€/p, 2 personas 150€/p,\\xa03 personas 120€/p, 4 personas 110€/pConsulta precio para grupos a partir de 10 personas\\n\\nAlmanzor Invernal de Noviembre – Mayo:\\nEn invierno, es obligatoria la pernocta en el refugio el día antes. \\xa0(La pernocta no está incluida en el precio)\\n1 persona 270€/p, 2 personas 180€/p,\\xa03 personas 160€/p, 4 personas 150€/p\\n\\nDescripción:\\nSubir al pico Almanzor es una actividad impresionante, ya solo por ser el pico más alto del Sistema Central, dándonos unas vistas de todo el sistema central únicas. Pero para llegar al Almanzor tendremos que realizar una actividad dura con grandes desniveles y terreno técnico, pasando por paisajes impresionantes, como Laguna Grande en el Circo de Gredos, la Canal del Crampon o la Poza Anton.\\n\\n\\nEsta actividad se puede realizar en un solo día en verano, pero todo cambia en condiciones invernales ya que es preferible dormir en el refugio de Laguna Grande la noche anterior a la ascensión al Almanzor.',\n",
       " 'Donde se realizan:\\xa0Sierra de Gredos, Plataforma de Gredos, sector central.\\nTipo de ruta: Ida y vuelta.\\nDuración:\\xa05 horas.\\nKm: 12\\nDificultad técnica:\\xa0baja. (Dependerá de la estación del año).\\nEsfuerzo: Bajo – medio.\\nPersonas mínimas:\\xa04 personas.\\nPuntos de interés:\\xa0Vistas del Circo de Gredos. Pico del Almanzor, Laguna Grande helada en invierno, Pozas de agua cristalina, refugio Laguna Grande.\\nÉpoca: Anual\\nPrecio: 30€/ persona actividad sin nieve, 40€/persona actividad invernal (preguntar precio para grupos 10 o superior)\\n\\nDescripción:\\nRuta conocida por todos, La Laguna Grande de Gredos y el Circo de Gredos, es una ruta que si no hemos estado seguramente hallamos oído hablar de ella. Esta zona constituye unos de los centros neurológicos del Alpinismo Nacional, donde entre sus montañas se han formado grandes montañeros.',\n",
       " 'Donde se realizan:\\xa0Sierra de Gredos, salida desde Navalperal del Tormes. Sector central.\\nTipo de ruta: Ida y vuelta.\\nDuración:\\xa09 horas.\\nKm: 25\\nDificultad técnica:\\xa0media. (Dependerá de la estación del año).\\nEsfuerzo: alto\\nPersonas mínimas:\\xa04 personas.\\nPuntos de interés:\\xa0Lagunas, cascadas, animales, vegetación.\\nÉpoca: Anual\\nPrecio: 40€/ persona actividad sin nieve, 60€/persona actividad invernal (preguntar precio para grupos 10 o superior)\\n\\n\\n\\nDescripción:\\nSaliendo desde Navalperal del Tormes, nos dirigimos hacia la trasera del Circo de Gredos, El Circo de Cinco Lagunas, siguiendo La Garganta de los Pinos, una ruta dura, en la que tendremos que madrugar. (Posibilidad de realizar en dos días y dormir en refugio, preguntar precio).\\nCinco Lagunas sigue siendo uno de esos sitios de Gredos sonde todavía puedes encontrarte a ti mismo, un sitio de soledad, donde muy pocos se atreven adentrarse, ya sea por la dureza de la actividad o el desconocimiento de la misma.',\n",
       " 'Donde se realizan:\\xa0Sierra de Bejar, salida desde la Plataforma del Travieso, sector occidental\\nTipo de ruta: Ida y vuelta. (Posibilidad de circular por la Dehesa)\\nDuración:\\xa07 horas.\\nkm: 12\\nDificultad técnica:\\xa0Media. (Dependerá de la estación del año).\\nEsfuerzo: medio.\\nPersonas mínimas:\\xa04 personas.\\nPuntos de interés:\\xa0Nacimiento del Rio Cuerpo de Hombre, vistas del Circo. Impresionantes vistas de los diferentes sectores de Gredos y la meseta.\\nÉpoca: Anual\\nPrecio: 30€/ persona actividad sin nieve, 40€/persona actividad invernal (preguntar precio para grupos 10 o superior)\\n\\n\\nDescripción:\\nUna de las rutas más características de la Sierra de Béjar, en la que disfrutamos, de las vistas de toda la meseta, pasando por uno de los pueblos más característicos de la zona de Béjar, Candelario y como premio el Circo de Hoya Moros uno de los sitio mas especiales de todo Gredos, sonde nace el río Cuerpo de Hombre, dejando a su paso unos preciosos meandros, esta actividad en imprescindible para conocer la Sierra de Béjar.',\n",
       " 'Localización: Sierra de Bejar, Gredos Oeste\\xa0(Salamanca)\\nTiempo: 3,5 horas\\nDificultad técnica: baja\\nEsfuerzo: bajo\\nKm: 8 km.\\nPunto más alto: 2355 metros\\nPrecio: \\xa025€\\n\\n\\n\\nDescripción:\\nSe trata de una ruta facil, bonita y apta para todo tipo de públicos y perfecta para iniciarse en el mundo de la montaña. En esta ruta con raquetas de nieve recorremos los circos de la Cardosa y Becedas\\xa0 subiendo a uno de los puntos más altos de Salamanca, el Canchal Negro, situado en la Cuerda del Calvitero, donde tenemos vistas del los macizos de la Sierra de Gredos, Central y Occidental, viendo los picos más característicos, como el Almanzor, La Covacha y La Ceja.',\n",
       " 'Localización: Sierra de Bejar, Gredos Oeste\\xa0(Salamanca)\\nTiempo: 4,5 horas\\nDificultad técnica: baja – media\\nEsfuerzo: Medio\\nKm: 14 km.\\nPunto más alto: 2400 metros\\nPrecio: 30€\\n\\n\\n\\nDescripción:\\nUn clásico de la Sierra de Béjar, subir al Calvitero es tradición en esta sierra tan hermosa. Es una ruta facil técnicamente, un poco más dura, que el Canchal Negro por su distancia pero técnicamente se parecen mucho. En esta ruta tendremos una vistas espectaculares de Gredos, sierra de Francia y Gata y nos acercaremos a ver el Circo de Hoya Moros que nos quedara al Oeste.',\n",
       " 'Donde se realizan:\\xa0Sierra de Béjar, salida desde la plataforma del travieso. Sector occidental.\\nTipo de ruta: circular.\\nDuración: 8 horas.\\nkm: 16\\nDificultad técnica:\\xa0medio. (Dependerá de la estación del año).\\nEsfuerzo: Alto\\nPersonas mínimas:\\xa04 personas. (invierno máximo 2 personas)\\nPuntos de interés:\\xa0Circo de Hoya Moros, Canchal de la Ceja, Calvitero, Los Hermanitos, Paisajes, Lagunas.\\nÉpoca: Anual\\nPrecio: 30€/ persona actividad sin nieve, 40€/persona actividad invernal (preguntar precio para grupos 10 o superior)\\n\\n\\n\\nDescripción:\\nEl Calvitero, Canchal de La Ceja y Torreón, la ruta para conocer toda la Sierra de Béjar, una actividad completa para recorrer todos los picos importantes, con la mejores vistas.\\n\\n\\nLa actividad comienza en la plataforma de las estación de Esquí de la Covatilla, recorriendo toda la cuerda del Calvitero, En esta ruta recorreremos los puntos más altos de la provincia de Salamanca, en Canchal de la Ceja con 2428 metros de altitud y el Punto mas alto de Extremadura, el Torreón (Calviatero)con 2400 metros. Durante la travesía veremos el Circo de Hoya Moros, lugar mágico para la escalada, donde nace el río Cuerpo de Hombre, con majestuosos picos, Los Dos Hermanitos, lagunas como las del Trampal, que las dejaremos al sureste y iremos viendo las Sierras de nos rodean, Sierra de Francia al Oeste, el Circo de Gredos al Oeste, los Valles de Ambroz al sur-oeste para terminar en la Cima de Torreón justo en el comienzo del Valle del Jerte al Sur-Este.',\n",
       " 'Donde se realizan:\\xa0Sierra de Gredos, aparcamiento carretera Nava de Barco. Sector Central.\\nTipo de ruta: Ida y vuelta.\\nDuración:\\xa07 horas.\\nKm: 21\\nDificultad técnica:\\xa0baja. (Dependerá de la estación del año).\\nEsfuerzo: medio.\\nPersonas mínimas:\\xa04 personas.\\nPuntos de interés:\\xa0Vistas del Circo. Pico de La Covacha, El Juraco, Azagaya.\\nÉpoca: Anual\\nPrecio: 30€/ persona actividad sin nieve, 40€/persona actividad invernal (preguntar precio para grupos 10 o superior)\\n\\n\\n\\nDescripción:\\nNo es una ruta muy transitada, al contrario que el vecino y tan concurrido Circo de Gredos, a pesar de tener poco que envidiar a tan afamado lugar. El circo lo forman algunas de las cumbres más importantes de la Sierra de Gredos como son la puntiaguda cumbre de Las Azagayas (2.367 m.), el pico Covacha (2.395 m.) o El Juraco (2.383 m.)\\n\\n\\nLa Laguna de Galín Gómez, también conocida como Laguna del Barco, se asienta a los pies de un bonito circo de origen glaciar situado en la vertiente norte de la Sierra de Gredos. La ruta de subida hasta ésta laguna desde el Puerto de Umbrías está señalizada como sendero.',\n",
       " 'Donde se realizan:\\xa0 Sierra de Gredos, aparcamiento carretera Nava de Barco. Sector Central.\\nTipo de ruta: Circular\\nDuración:\\xa02 días, una noche.\\nkm: 26\\nDificultad técnica:\\xa0alta. (Dependerá de la estación del año).\\nEsfuerzo: Muy alto\\nPersonas mínimas:\\xa02 personas.\\nPuntos de interés:\\xa0Ascensión picos característicos de la zona, vista de las tres Lagunas, vivac de montaña.\\nÉpoca: Primavera – otoño.\\nMaterial necesario: Necesitaremos equipo propio de montaña, Mochila 50l, botas de montaña de caña alta, ropa técnica y de abrigo, saco de dormir, funda vivac.\\nIncluye:\\xa0Material técnico, arnés, casco, cuerdas, mosquetones, crampones, raquetas, casco…\\nPrecio: 150€/p.\\n\\n\\n\\nDescripción:\\nRealizaremos una ruta de dos días y una noche recorriendo diferentes lagunas y picos de la Sierra de Gredos durmiendo en los refugios que nos encontramos a nuestro paso y disfrutando de un paisaje inolvidable. las lagunas que visitamos son Laguna de Barco o Galin Gomez, Laguna de la Nava y Laguna de los Caballeros. Una aventura que no olvidareis.',\n",
       " 'Donde se realizan:\\xa0Sierra de Gredos, salida desde Navalguijo Sector Central\\nTipo de ruta: Ida y vuelta.\\nDuración:\\xa08 horas.\\nkm: 25\\nDificultad técnica:\\xa0baja. (Dependerá de la estación del año).\\nEsfuerzo: Alto\\nPersonas mínimas:\\xa04 personas.\\nPuntos de interés:\\xa0Ver el pico mas alto Extremadura, Laguna del Los Caballeros, avistamiento animales, Barrancos, Cascada 100 metros.\\nÉpoca: Anual\\nPrecio: 40€/P. Precios actividad invernal (Consultar) posibilidad de subida a las Covacha. Precio para grupos reducidos de 10 personas o más pedir presupuesto.\\n\\n\\n\\nDescripción:\\nUna ruta impresionante y muy desconocidas, con uno de los paisajes mas bestias de toda la Sierra de Gredos, con Valles cargados de magia y una cascada de mas de 100 metros de altura. En esta ruta tendremos que salir a primera hora del día ya que , no siendo difícil técnicamente, requiere mucho tiempo en realizar.',\n",
       " 'Donde se realizan:\\xa0Sierra de Gredos, salida desde la carretera de Nava de Barco. Sector Central\\nTipo de ruta: Ida y vuelta.\\nDuración: 8 horas.\\nkm: 19\\nDificultad técnica:\\xa0medio. (Dependerá de la estación del año).\\nEsfuerzo: Alto\\nPersonas mínimas:\\xa04 personas. (invierno máximo 2 personas)\\nPuntos de interés:\\xa0Laguna de la Nava, Avistamiento de animales, barrancos, pozas, cascadas.\\nÉpoca: Anual\\nPrecio: 30€/ persona actividad sin nieve, 40€/persona actividad invernal (preguntar precio para grupos 10 o superior)\\n\\n\\n\\nDescripción:\\nSaliendo de Nava de barco, nos vamos metiendo en lo más profundo de Gredos, un paisaje que nos envuelve, mientras que sorteamos ríos y caminamos entre terreno de montaña. Esta laguna encierra un circo impresionante y acogedor al que muy pocos visitantes o montañeros se acercan por su lejanía.',\n",
       " '',\n",
       " 'turismoactiva@gmail.com',\n",
       " 'Nº Registro TA 37/23',\n",
       " '',\n",
       " 'Reservas',\n",
       " '',\n",
       " 'Sierra de Béjar, Salamanca\\n\\nAlbergue VallejeraPosada de Candelario\\n\\n\\n\\n\\n\\n\\n\\nCiudad Rodrigo\\n\\nHostal Parque FloridaCasa Rural FaustinoAlbergue la ConchaCasa Rural El BornizoCasa Rural El CarteroCasa Rural Víctor\\n\\n\\n\\n\\n\\n\\n\\nSierra de Francia y Batuecas\\n\\nEl Mirador de la VeletaApartamentos Sinuhé',\n",
       " '',\n",
       " '']"
      ]
     },
     "execution_count": 841,
     "metadata": {},
     "output_type": "execute_result"
    }
   ],
   "source": [
    "lista_detalles = (lista_nueva[1:-1:3])\n",
    "lista_detalles"
   ]
  },
  {
   "cell_type": "code",
   "execution_count": 842,
   "metadata": {},
   "outputs": [
    {
     "data": {
      "text/plain": [
       "['Donde se realizan:\\xa0Sierra de Gredos, salida desde la Plataforma de Gredos. Sector Central\\nTipo de ruta:\\xa0circular.\\nDuración:\\xa04 horas.\\nKm: 10\\nDificultad Técnica:\\xa0baja. (Dependerá de la estación del año).\\nEsfuerzo:\\xa0bajo – medio\\nPersonas mínimas:\\xa04 personas.\\nPuntos de interés:\\xa0Circo de Gredos, valle del Tietar, Refugio del Rey,\\xa0 paisajes impresionante, avistamiento de animales, Circo de montaña.\\nÉpoca:\\xa0Anua\\nPrecio:\\xa030€/ persona actividad sin nieve, 40€/persona actividad invernal (preguntar precio para grupos 10 o superior)\\n\\nDescripción:\\xa0\\nUna ruta perfecta para iniciarse en el mundo de la montaña, saldremos de la plataforma de Gredos, subiendo por Prado Pozas donde se encuentra el refugio de Reguero Llano, y empezar la subida al balcón de Gredos (Pico Morezon) una de las mejores vistas del Circo de Gredos y el valle del Tietar, podremos ver picos tan lejanos como Lo Montes de Toledo y La Mira, con el Pico Almanzor justo delante de nosotros, para bajar por el mítico refugio el Rey.',\n",
       " 'Donde se realizan:\\xa0Sierra de Gredos, salida desde la Plataforma de Gredos. Sector Central\\nTipo de ruta: Ida y vuelta.\\nDuración:\\xa07 horas.\\nkm: 16\\nDificultad técnica:\\xa0Media. (Dependerá de la estación del año).\\nEsfuerzo: Medio\\nPersonas mínimas:\\xa04 personas.\\nPuntos de interés:\\xa0Vistas de Galayos, valle del Tietar, Circo de Gredos,\\xa0 paisajes impresionante, avistamiento de animales, Circo de montaña.\\nÉpoca: Anual\\nPrecio: 30€/ persona actividad sin nieve, 40€/persona actividad invernal (preguntar precio para grupos 10 o superior)\\n\\n\\n\\nDescripción:\\nUna ruta perfecta para iniciarse en Gredos, siendo uno de los picos más visitados.\\nEl Pico de la Mira, desde este punto tendremos la mejores vistas de Galayos y el Puerto de Candeleda, con los picos del Circo de Gredos detrás de nosotros y viendo el espectacular valle del Tietar al Suereste.',\n",
       " 'Donde se realizan:\\xa0Sierra de Gredos, salida desde la Plataforma de Gredos. Sector Central\\nTipo de ruta: Ida y vuelta.\\nDuración:\\xa014 horas.\\nkm: 22\\nDificultad técnica:\\xa0Alta. (Dependerá de la estación del año).\\nEsfuerzo: Alto\\nPersonas mínimas: 1\\xa0personas.\\xa0\\nPuntos de interés:\\xa0Subida al pico mas alto del sistema central, Laguna Grande.\\nÉpoca: Anual\\n\\nPrecio:\\n\\nAlmanzor estival de mayo – octubre:\\n1 persona 250€/p, 2 personas 150€/p,\\xa03 personas 120€/p, 4 personas 110€/pConsulta precio para grupos a partir de 10 personas\\n\\nAlmanzor Invernal de Noviembre – Mayo:\\nEn invierno, es obligatoria la pernocta en el refugio el día antes. \\xa0(La pernocta no está incluida en el precio)\\n1 persona 270€/p, 2 personas 180€/p,\\xa03 personas 160€/p, 4 personas 150€/p\\n\\nDescripción:\\nSubir al pico Almanzor es una actividad impresionante, ya solo por ser el pico más alto del Sistema Central, dándonos unas vistas de todo el sistema central únicas. Pero para llegar al Almanzor tendremos que realizar una actividad dura con grandes desniveles y terreno técnico, pasando por paisajes impresionantes, como Laguna Grande en el Circo de Gredos, la Canal del Crampon o la Poza Anton.\\n\\n\\nEsta actividad se puede realizar en un solo día en verano, pero todo cambia en condiciones invernales ya que es preferible dormir en el refugio de Laguna Grande la noche anterior a la ascensión al Almanzor.',\n",
       " 'Donde se realizan:\\xa0Sierra de Gredos, Plataforma de Gredos, sector central.\\nTipo de ruta: Ida y vuelta.\\nDuración:\\xa05 horas.\\nKm: 12\\nDificultad técnica:\\xa0baja. (Dependerá de la estación del año).\\nEsfuerzo: Bajo – medio.\\nPersonas mínimas:\\xa04 personas.\\nPuntos de interés:\\xa0Vistas del Circo de Gredos. Pico del Almanzor, Laguna Grande helada en invierno, Pozas de agua cristalina, refugio Laguna Grande.\\nÉpoca: Anual\\nPrecio: 30€/ persona actividad sin nieve, 40€/persona actividad invernal (preguntar precio para grupos 10 o superior)\\n\\nDescripción:\\nRuta conocida por todos, La Laguna Grande de Gredos y el Circo de Gredos, es una ruta que si no hemos estado seguramente hallamos oído hablar de ella. Esta zona constituye unos de los centros neurológicos del Alpinismo Nacional, donde entre sus montañas se han formado grandes montañeros.',\n",
       " 'Donde se realizan:\\xa0Sierra de Gredos, salida desde Navalperal del Tormes. Sector central.\\nTipo de ruta: Ida y vuelta.\\nDuración:\\xa09 horas.\\nKm: 25\\nDificultad técnica:\\xa0media. (Dependerá de la estación del año).\\nEsfuerzo: alto\\nPersonas mínimas:\\xa04 personas.\\nPuntos de interés:\\xa0Lagunas, cascadas, animales, vegetación.\\nÉpoca: Anual\\nPrecio: 40€/ persona actividad sin nieve, 60€/persona actividad invernal (preguntar precio para grupos 10 o superior)\\n\\n\\n\\nDescripción:\\nSaliendo desde Navalperal del Tormes, nos dirigimos hacia la trasera del Circo de Gredos, El Circo de Cinco Lagunas, siguiendo La Garganta de los Pinos, una ruta dura, en la que tendremos que madrugar. (Posibilidad de realizar en dos días y dormir en refugio, preguntar precio).\\nCinco Lagunas sigue siendo uno de esos sitios de Gredos sonde todavía puedes encontrarte a ti mismo, un sitio de soledad, donde muy pocos se atreven adentrarse, ya sea por la dureza de la actividad o el desconocimiento de la misma.',\n",
       " 'Donde se realizan:\\xa0Sierra de Bejar, salida desde la Plataforma del Travieso, sector occidental\\nTipo de ruta: Ida y vuelta. (Posibilidad de circular por la Dehesa)\\nDuración:\\xa07 horas.\\nkm: 12\\nDificultad técnica:\\xa0Media. (Dependerá de la estación del año).\\nEsfuerzo: medio.\\nPersonas mínimas:\\xa04 personas.\\nPuntos de interés:\\xa0Nacimiento del Rio Cuerpo de Hombre, vistas del Circo. Impresionantes vistas de los diferentes sectores de Gredos y la meseta.\\nÉpoca: Anual\\nPrecio: 30€/ persona actividad sin nieve, 40€/persona actividad invernal (preguntar precio para grupos 10 o superior)\\n\\n\\nDescripción:\\nUna de las rutas más características de la Sierra de Béjar, en la que disfrutamos, de las vistas de toda la meseta, pasando por uno de los pueblos más característicos de la zona de Béjar, Candelario y como premio el Circo de Hoya Moros uno de los sitio mas especiales de todo Gredos, sonde nace el río Cuerpo de Hombre, dejando a su paso unos preciosos meandros, esta actividad en imprescindible para conocer la Sierra de Béjar.',\n",
       " 'Localización: Sierra de Bejar, Gredos Oeste\\xa0(Salamanca)\\nTiempo: 3,5 horas\\nDificultad técnica: baja\\nEsfuerzo: bajo\\nKm: 8 km.\\nPunto más alto: 2355 metros\\nPrecio: \\xa025€\\n\\n\\n\\nDescripción:\\nSe trata de una ruta facil, bonita y apta para todo tipo de públicos y perfecta para iniciarse en el mundo de la montaña. En esta ruta con raquetas de nieve recorremos los circos de la Cardosa y Becedas\\xa0 subiendo a uno de los puntos más altos de Salamanca, el Canchal Negro, situado en la Cuerda del Calvitero, donde tenemos vistas del los macizos de la Sierra de Gredos, Central y Occidental, viendo los picos más característicos, como el Almanzor, La Covacha y La Ceja.',\n",
       " 'Localización: Sierra de Bejar, Gredos Oeste\\xa0(Salamanca)\\nTiempo: 4,5 horas\\nDificultad técnica: baja – media\\nEsfuerzo: Medio\\nKm: 14 km.\\nPunto más alto: 2400 metros\\nPrecio: 30€\\n\\n\\n\\nDescripción:\\nUn clásico de la Sierra de Béjar, subir al Calvitero es tradición en esta sierra tan hermosa. Es una ruta facil técnicamente, un poco más dura, que el Canchal Negro por su distancia pero técnicamente se parecen mucho. En esta ruta tendremos una vistas espectaculares de Gredos, sierra de Francia y Gata y nos acercaremos a ver el Circo de Hoya Moros que nos quedara al Oeste.',\n",
       " 'Donde se realizan:\\xa0Sierra de Béjar, salida desde la plataforma del travieso. Sector occidental.\\nTipo de ruta: circular.\\nDuración: 8 horas.\\nkm: 16\\nDificultad técnica:\\xa0medio. (Dependerá de la estación del año).\\nEsfuerzo: Alto\\nPersonas mínimas:\\xa04 personas. (invierno máximo 2 personas)\\nPuntos de interés:\\xa0Circo de Hoya Moros, Canchal de la Ceja, Calvitero, Los Hermanitos, Paisajes, Lagunas.\\nÉpoca: Anual\\nPrecio: 30€/ persona actividad sin nieve, 40€/persona actividad invernal (preguntar precio para grupos 10 o superior)\\n\\n\\n\\nDescripción:\\nEl Calvitero, Canchal de La Ceja y Torreón, la ruta para conocer toda la Sierra de Béjar, una actividad completa para recorrer todos los picos importantes, con la mejores vistas.\\n\\n\\nLa actividad comienza en la plataforma de las estación de Esquí de la Covatilla, recorriendo toda la cuerda del Calvitero, En esta ruta recorreremos los puntos más altos de la provincia de Salamanca, en Canchal de la Ceja con 2428 metros de altitud y el Punto mas alto de Extremadura, el Torreón (Calviatero)con 2400 metros. Durante la travesía veremos el Circo de Hoya Moros, lugar mágico para la escalada, donde nace el río Cuerpo de Hombre, con majestuosos picos, Los Dos Hermanitos, lagunas como las del Trampal, que las dejaremos al sureste y iremos viendo las Sierras de nos rodean, Sierra de Francia al Oeste, el Circo de Gredos al Oeste, los Valles de Ambroz al sur-oeste para terminar en la Cima de Torreón justo en el comienzo del Valle del Jerte al Sur-Este.',\n",
       " 'Donde se realizan:\\xa0Sierra de Gredos, aparcamiento carretera Nava de Barco. Sector Central.\\nTipo de ruta: Ida y vuelta.\\nDuración:\\xa07 horas.\\nKm: 21\\nDificultad técnica:\\xa0baja. (Dependerá de la estación del año).\\nEsfuerzo: medio.\\nPersonas mínimas:\\xa04 personas.\\nPuntos de interés:\\xa0Vistas del Circo. Pico de La Covacha, El Juraco, Azagaya.\\nÉpoca: Anual\\nPrecio: 30€/ persona actividad sin nieve, 40€/persona actividad invernal (preguntar precio para grupos 10 o superior)\\n\\n\\n\\nDescripción:\\nNo es una ruta muy transitada, al contrario que el vecino y tan concurrido Circo de Gredos, a pesar de tener poco que envidiar a tan afamado lugar. El circo lo forman algunas de las cumbres más importantes de la Sierra de Gredos como son la puntiaguda cumbre de Las Azagayas (2.367 m.), el pico Covacha (2.395 m.) o El Juraco (2.383 m.)\\n\\n\\nLa Laguna de Galín Gómez, también conocida como Laguna del Barco, se asienta a los pies de un bonito circo de origen glaciar situado en la vertiente norte de la Sierra de Gredos. La ruta de subida hasta ésta laguna desde el Puerto de Umbrías está señalizada como sendero.',\n",
       " 'Donde se realizan:\\xa0 Sierra de Gredos, aparcamiento carretera Nava de Barco. Sector Central.\\nTipo de ruta: Circular\\nDuración:\\xa02 días, una noche.\\nkm: 26\\nDificultad técnica:\\xa0alta. (Dependerá de la estación del año).\\nEsfuerzo: Muy alto\\nPersonas mínimas:\\xa02 personas.\\nPuntos de interés:\\xa0Ascensión picos característicos de la zona, vista de las tres Lagunas, vivac de montaña.\\nÉpoca: Primavera – otoño.\\nMaterial necesario: Necesitaremos equipo propio de montaña, Mochila 50l, botas de montaña de caña alta, ropa técnica y de abrigo, saco de dormir, funda vivac.\\nIncluye:\\xa0Material técnico, arnés, casco, cuerdas, mosquetones, crampones, raquetas, casco…\\nPrecio: 150€/p.\\n\\n\\n\\nDescripción:\\nRealizaremos una ruta de dos días y una noche recorriendo diferentes lagunas y picos de la Sierra de Gredos durmiendo en los refugios que nos encontramos a nuestro paso y disfrutando de un paisaje inolvidable. las lagunas que visitamos son Laguna de Barco o Galin Gomez, Laguna de la Nava y Laguna de los Caballeros. Una aventura que no olvidareis.',\n",
       " 'Donde se realizan:\\xa0Sierra de Gredos, salida desde Navalguijo Sector Central\\nTipo de ruta: Ida y vuelta.\\nDuración:\\xa08 horas.\\nkm: 25\\nDificultad técnica:\\xa0baja. (Dependerá de la estación del año).\\nEsfuerzo: Alto\\nPersonas mínimas:\\xa04 personas.\\nPuntos de interés:\\xa0Ver el pico mas alto Extremadura, Laguna del Los Caballeros, avistamiento animales, Barrancos, Cascada 100 metros.\\nÉpoca: Anual\\nPrecio: 40€/P. Precios actividad invernal (Consultar) posibilidad de subida a las Covacha. Precio para grupos reducidos de 10 personas o más pedir presupuesto.\\n\\n\\n\\nDescripción:\\nUna ruta impresionante y muy desconocidas, con uno de los paisajes mas bestias de toda la Sierra de Gredos, con Valles cargados de magia y una cascada de mas de 100 metros de altura. En esta ruta tendremos que salir a primera hora del día ya que , no siendo difícil técnicamente, requiere mucho tiempo en realizar.',\n",
       " 'Donde se realizan:\\xa0Sierra de Gredos, salida desde la carretera de Nava de Barco. Sector Central\\nTipo de ruta: Ida y vuelta.\\nDuración: 8 horas.\\nkm: 19\\nDificultad técnica:\\xa0medio. (Dependerá de la estación del año).\\nEsfuerzo: Alto\\nPersonas mínimas:\\xa04 personas. (invierno máximo 2 personas)\\nPuntos de interés:\\xa0Laguna de la Nava, Avistamiento de animales, barrancos, pozas, cascadas.\\nÉpoca: Anual\\nPrecio: 30€/ persona actividad sin nieve, 40€/persona actividad invernal (preguntar precio para grupos 10 o superior)\\n\\n\\n\\nDescripción:\\nSaliendo de Nava de barco, nos vamos metiendo en lo más profundo de Gredos, un paisaje que nos envuelve, mientras que sorteamos ríos y caminamos entre terreno de montaña. Esta laguna encierra un circo impresionante y acogedor al que muy pocos visitantes o montañeros se acercan por su lejanía.']"
      ]
     },
     "execution_count": 842,
     "metadata": {},
     "output_type": "execute_result"
    }
   ],
   "source": [
    "lista_detalles_limpia = lista_detalles[5:18]\n",
    "lista_detalles_limpia"
   ]
  },
  {
   "cell_type": "code",
   "execution_count": 920,
   "metadata": {},
   "outputs": [
    {
     "name": "stdout",
     "output_type": "stream",
     "text": [
      "---\n",
      "Donde se realizan: Sierra de Gredos, salida desde la Plataforma de Gredos. Sector Central\n",
      "---\n",
      "Tipo de ruta: circular.\n",
      "---\n",
      "Duración: 4 horas.\n",
      "---\n",
      "Km: 10\n",
      "---\n",
      "Dificultad Técnica: baja. (Dependerá de la estación del año).\n",
      "---\n",
      "Esfuerzo: bajo – medio\n",
      "---\n",
      "Personas mínimas: 4 personas.\n",
      "---\n",
      "Puntos de interés: Circo de Gredos, valle del Tietar, Refugio del Rey,  paisajes impresionante, avistamiento de animales, Circo de montaña.\n",
      "---\n",
      "Época: Anua\n",
      "---\n",
      "Precio: 30€/ persona actividad sin nieve, 40€/persona actividad invernal (preguntar precio para grupos 10 o superior)\n",
      "---\n",
      "\n",
      "---\n",
      "Descripción: \n",
      "---\n",
      "Una ruta perfecta para iniciarse en el mundo de la montaña, saldremos de la plataforma de Gredos, subiendo por Prado Pozas donde se encuentra el refugio de Reguero Llano, y empezar la subida al balcón de Gredos (Pico Morezon) una de las mejores vistas del Circo de Gredos y el valle del Tietar, podremos ver picos tan lejanos como Lo Montes de Toledo y La Mira, con el Pico Almanzor justo delante de nosotros, para bajar por el mítico refugio el Rey.\n",
      "-----------------------\n",
      "---\n",
      "Donde se realizan: Sierra de Gredos, salida desde la Plataforma de Gredos. Sector Central\n",
      "---\n",
      "Tipo de ruta: Ida y vuelta.\n",
      "---\n",
      "Duración: 7 horas.\n",
      "---\n",
      "km: 16\n",
      "---\n",
      "Dificultad técnica: Media. (Dependerá de la estación del año).\n",
      "---\n",
      "Esfuerzo: Medio\n",
      "---\n",
      "Personas mínimas: 4 personas.\n",
      "---\n",
      "Puntos de interés: Vistas de Galayos, valle del Tietar, Circo de Gredos,  paisajes impresionante, avistamiento de animales, Circo de montaña.\n",
      "---\n",
      "Época: Anual\n",
      "---\n",
      "Precio: 30€/ persona actividad sin nieve, 40€/persona actividad invernal (preguntar precio para grupos 10 o superior)\n",
      "---\n",
      "\n",
      "---\n",
      "\n",
      "---\n",
      "\n",
      "---\n",
      "Descripción:\n",
      "---\n",
      "Una ruta perfecta para iniciarse en Gredos, siendo uno de los picos más visitados.\n",
      "---\n",
      "El Pico de la Mira, desde este punto tendremos la mejores vistas de Galayos y el Puerto de Candeleda, con los picos del Circo de Gredos detrás de nosotros y viendo el espectacular valle del Tietar al Suereste.\n",
      "-----------------------\n",
      "---\n",
      "Donde se realizan: Sierra de Gredos, salida desde la Plataforma de Gredos. Sector Central\n",
      "---\n",
      "Tipo de ruta: Ida y vuelta.\n",
      "---\n",
      "Duración: 14 horas.\n",
      "---\n",
      "km: 22\n",
      "---\n",
      "Dificultad técnica: Alta. (Dependerá de la estación del año).\n",
      "---\n",
      "Esfuerzo: Alto\n",
      "---\n",
      "Personas mínimas: 1 personas. \n",
      "---\n",
      "Puntos de interés: Subida al pico mas alto del sistema central, Laguna Grande.\n",
      "---\n",
      "Época: Anual\n",
      "---\n",
      "\n",
      "---\n",
      "Precio:\n",
      "---\n",
      "\n",
      "---\n",
      "Almanzor estival de mayo – octubre:\n",
      "---\n",
      "1 persona 250€/p, 2 personas 150€/p, 3 personas 120€/p, 4 personas 110€/pConsulta precio para grupos a partir de 10 personas\n",
      "---\n",
      "\n",
      "---\n",
      "Almanzor Invernal de Noviembre – Mayo:\n",
      "---\n",
      "En invierno, es obligatoria la pernocta en el refugio el día antes.  (La pernocta no está incluida en el precio)\n",
      "---\n",
      "1 persona 270€/p, 2 personas 180€/p, 3 personas 160€/p, 4 personas 150€/p\n",
      "---\n",
      "\n",
      "---\n",
      "Descripción:\n",
      "---\n",
      "Subir al pico Almanzor es una actividad impresionante, ya solo por ser el pico más alto del Sistema Central, dándonos unas vistas de todo el sistema central únicas. Pero para llegar al Almanzor tendremos que realizar una actividad dura con grandes desniveles y terreno técnico, pasando por paisajes impresionantes, como Laguna Grande en el Circo de Gredos, la Canal del Crampon o la Poza Anton.\n",
      "---\n",
      "\n",
      "---\n",
      "\n",
      "---\n",
      "Esta actividad se puede realizar en un solo día en verano, pero todo cambia en condiciones invernales ya que es preferible dormir en el refugio de Laguna Grande la noche anterior a la ascensión al Almanzor.\n",
      "-----------------------\n",
      "---\n",
      "Donde se realizan: Sierra de Gredos, Plataforma de Gredos, sector central.\n",
      "---\n",
      "Tipo de ruta: Ida y vuelta.\n",
      "---\n",
      "Duración: 5 horas.\n",
      "---\n",
      "Km: 12\n",
      "---\n",
      "Dificultad técnica: baja. (Dependerá de la estación del año).\n",
      "---\n",
      "Esfuerzo: Bajo – medio.\n",
      "---\n",
      "Personas mínimas: 4 personas.\n",
      "---\n",
      "Puntos de interés: Vistas del Circo de Gredos. Pico del Almanzor, Laguna Grande helada en invierno, Pozas de agua cristalina, refugio Laguna Grande.\n",
      "---\n",
      "Época: Anual\n",
      "---\n",
      "Precio: 30€/ persona actividad sin nieve, 40€/persona actividad invernal (preguntar precio para grupos 10 o superior)\n",
      "---\n",
      "\n",
      "---\n",
      "Descripción:\n",
      "---\n",
      "Ruta conocida por todos, La Laguna Grande de Gredos y el Circo de Gredos, es una ruta que si no hemos estado seguramente hallamos oído hablar de ella. Esta zona constituye unos de los centros neurológicos del Alpinismo Nacional, donde entre sus montañas se han formado grandes montañeros.\n",
      "-----------------------\n",
      "---\n",
      "Donde se realizan: Sierra de Gredos, salida desde Navalperal del Tormes. Sector central.\n",
      "---\n",
      "Tipo de ruta: Ida y vuelta.\n",
      "---\n",
      "Duración: 9 horas.\n",
      "---\n",
      "Km: 25\n",
      "---\n",
      "Dificultad técnica: media. (Dependerá de la estación del año).\n",
      "---\n",
      "Esfuerzo: alto\n",
      "---\n",
      "Personas mínimas: 4 personas.\n",
      "---\n",
      "Puntos de interés: Lagunas, cascadas, animales, vegetación.\n",
      "---\n",
      "Época: Anual\n",
      "---\n",
      "Precio: 40€/ persona actividad sin nieve, 60€/persona actividad invernal (preguntar precio para grupos 10 o superior)\n",
      "---\n",
      "\n",
      "---\n",
      "\n",
      "---\n",
      "\n",
      "---\n",
      "Descripción:\n",
      "---\n",
      "Saliendo desde Navalperal del Tormes, nos dirigimos hacia la trasera del Circo de Gredos, El Circo de Cinco Lagunas, siguiendo La Garganta de los Pinos, una ruta dura, en la que tendremos que madrugar. (Posibilidad de realizar en dos días y dormir en refugio, preguntar precio).\n",
      "---\n",
      "Cinco Lagunas sigue siendo uno de esos sitios de Gredos sonde todavía puedes encontrarte a ti mismo, un sitio de soledad, donde muy pocos se atreven adentrarse, ya sea por la dureza de la actividad o el desconocimiento de la misma.\n",
      "-----------------------\n",
      "---\n",
      "Donde se realizan: Sierra de Bejar, salida desde la Plataforma del Travieso, sector occidental\n",
      "---\n",
      "Tipo de ruta: Ida y vuelta. (Posibilidad de circular por la Dehesa)\n",
      "---\n",
      "Duración: 7 horas.\n",
      "---\n",
      "km: 12\n",
      "---\n",
      "Dificultad técnica: Media. (Dependerá de la estación del año).\n",
      "---\n",
      "Esfuerzo: medio.\n",
      "---\n",
      "Personas mínimas: 4 personas.\n",
      "---\n",
      "Puntos de interés: Nacimiento del Rio Cuerpo de Hombre, vistas del Circo. Impresionantes vistas de los diferentes sectores de Gredos y la meseta.\n",
      "---\n",
      "Época: Anual\n",
      "---\n",
      "Precio: 30€/ persona actividad sin nieve, 40€/persona actividad invernal (preguntar precio para grupos 10 o superior)\n",
      "---\n",
      "\n",
      "---\n",
      "\n",
      "---\n",
      "Descripción:\n",
      "---\n",
      "Una de las rutas más características de la Sierra de Béjar, en la que disfrutamos, de las vistas de toda la meseta, pasando por uno de los pueblos más característicos de la zona de Béjar, Candelario y como premio el Circo de Hoya Moros uno de los sitio mas especiales de todo Gredos, sonde nace el río Cuerpo de Hombre, dejando a su paso unos preciosos meandros, esta actividad en imprescindible para conocer la Sierra de Béjar.\n",
      "-----------------------\n",
      "---\n",
      "Localización: Sierra de Bejar, Gredos Oeste (Salamanca)\n",
      "---\n",
      "Tiempo: 3,5 horas\n",
      "---\n",
      "Dificultad técnica: baja\n",
      "---\n",
      "Esfuerzo: bajo\n",
      "---\n",
      "Km: 8 km.\n",
      "---\n",
      "Punto más alto: 2355 metros\n",
      "---\n",
      "Precio:  25€\n",
      "---\n",
      "\n",
      "---\n",
      "\n",
      "---\n",
      "\n",
      "---\n",
      "Descripción:\n",
      "---\n",
      "Se trata de una ruta facil, bonita y apta para todo tipo de públicos y perfecta para iniciarse en el mundo de la montaña. En esta ruta con raquetas de nieve recorremos los circos de la Cardosa y Becedas  subiendo a uno de los puntos más altos de Salamanca, el Canchal Negro, situado en la Cuerda del Calvitero, donde tenemos vistas del los macizos de la Sierra de Gredos, Central y Occidental, viendo los picos más característicos, como el Almanzor, La Covacha y La Ceja.\n",
      "-----------------------\n",
      "---\n",
      "Localización: Sierra de Bejar, Gredos Oeste (Salamanca)\n",
      "---\n",
      "Tiempo: 4,5 horas\n",
      "---\n",
      "Dificultad técnica: baja – media\n",
      "---\n",
      "Esfuerzo: Medio\n",
      "---\n",
      "Km: 14 km.\n",
      "---\n",
      "Punto más alto: 2400 metros\n",
      "---\n",
      "Precio: 30€\n",
      "---\n",
      "\n",
      "---\n",
      "\n",
      "---\n",
      "\n",
      "---\n",
      "Descripción:\n",
      "---\n",
      "Un clásico de la Sierra de Béjar, subir al Calvitero es tradición en esta sierra tan hermosa. Es una ruta facil técnicamente, un poco más dura, que el Canchal Negro por su distancia pero técnicamente se parecen mucho. En esta ruta tendremos una vistas espectaculares de Gredos, sierra de Francia y Gata y nos acercaremos a ver el Circo de Hoya Moros que nos quedara al Oeste.\n",
      "-----------------------\n",
      "---\n",
      "Donde se realizan: Sierra de Béjar, salida desde la plataforma del travieso. Sector occidental.\n",
      "---\n",
      "Tipo de ruta: circular.\n",
      "---\n",
      "Duración: 8 horas.\n",
      "---\n",
      "km: 16\n",
      "---\n",
      "Dificultad técnica: medio. (Dependerá de la estación del año).\n",
      "---\n",
      "Esfuerzo: Alto\n",
      "---\n",
      "Personas mínimas: 4 personas. (invierno máximo 2 personas)\n",
      "---\n",
      "Puntos de interés: Circo de Hoya Moros, Canchal de la Ceja, Calvitero, Los Hermanitos, Paisajes, Lagunas.\n",
      "---\n",
      "Época: Anual\n",
      "---\n",
      "Precio: 30€/ persona actividad sin nieve, 40€/persona actividad invernal (preguntar precio para grupos 10 o superior)\n",
      "---\n",
      "\n",
      "---\n",
      "\n",
      "---\n",
      "\n",
      "---\n",
      "Descripción:\n",
      "---\n",
      "El Calvitero, Canchal de La Ceja y Torreón, la ruta para conocer toda la Sierra de Béjar, una actividad completa para recorrer todos los picos importantes, con la mejores vistas.\n",
      "---\n",
      "\n",
      "---\n",
      "\n",
      "---\n",
      "La actividad comienza en la plataforma de las estación de Esquí de la Covatilla, recorriendo toda la cuerda del Calvitero, En esta ruta recorreremos los puntos más altos de la provincia de Salamanca, en Canchal de la Ceja con 2428 metros de altitud y el Punto mas alto de Extremadura, el Torreón (Calviatero)con 2400 metros. Durante la travesía veremos el Circo de Hoya Moros, lugar mágico para la escalada, donde nace el río Cuerpo de Hombre, con majestuosos picos, Los Dos Hermanitos, lagunas como las del Trampal, que las dejaremos al sureste y iremos viendo las Sierras de nos rodean, Sierra de Francia al Oeste, el Circo de Gredos al Oeste, los Valles de Ambroz al sur-oeste para terminar en la Cima de Torreón justo en el comienzo del Valle del Jerte al Sur-Este.\n",
      "-----------------------\n",
      "---\n",
      "Donde se realizan: Sierra de Gredos, aparcamiento carretera Nava de Barco. Sector Central.\n",
      "---\n",
      "Tipo de ruta: Ida y vuelta.\n",
      "---\n",
      "Duración: 7 horas.\n",
      "---\n",
      "Km: 21\n",
      "---\n",
      "Dificultad técnica: baja. (Dependerá de la estación del año).\n",
      "---\n",
      "Esfuerzo: medio.\n",
      "---\n",
      "Personas mínimas: 4 personas.\n",
      "---\n",
      "Puntos de interés: Vistas del Circo. Pico de La Covacha, El Juraco, Azagaya.\n",
      "---\n",
      "Época: Anual\n",
      "---\n",
      "Precio: 30€/ persona actividad sin nieve, 40€/persona actividad invernal (preguntar precio para grupos 10 o superior)\n",
      "---\n",
      "\n",
      "---\n",
      "\n",
      "---\n",
      "\n",
      "---\n",
      "Descripción:\n",
      "---\n",
      "No es una ruta muy transitada, al contrario que el vecino y tan concurrido Circo de Gredos, a pesar de tener poco que envidiar a tan afamado lugar. El circo lo forman algunas de las cumbres más importantes de la Sierra de Gredos como son la puntiaguda cumbre de Las Azagayas (2.367 m.), el pico Covacha (2.395 m.) o El Juraco (2.383 m.)\n",
      "---\n",
      "\n",
      "---\n",
      "\n",
      "---\n",
      "La Laguna de Galín Gómez, también conocida como Laguna del Barco, se asienta a los pies de un bonito circo de origen glaciar situado en la vertiente norte de la Sierra de Gredos. La ruta de subida hasta ésta laguna desde el Puerto de Umbrías está señalizada como sendero.\n",
      "-----------------------\n",
      "---\n",
      "Donde se realizan:  Sierra de Gredos, aparcamiento carretera Nava de Barco. Sector Central.\n",
      "---\n",
      "Tipo de ruta: Circular\n",
      "---\n",
      "Duración: 2 días, una noche.\n",
      "---\n",
      "km: 26\n",
      "---\n",
      "Dificultad técnica: alta. (Dependerá de la estación del año).\n",
      "---\n",
      "Esfuerzo: Muy alto\n",
      "---\n",
      "Personas mínimas: 2 personas.\n",
      "---\n",
      "Puntos de interés: Ascensión picos característicos de la zona, vista de las tres Lagunas, vivac de montaña.\n",
      "---\n",
      "Época: Primavera – otoño.\n",
      "---\n",
      "Material necesario: Necesitaremos equipo propio de montaña, Mochila 50l, botas de montaña de caña alta, ropa técnica y de abrigo, saco de dormir, funda vivac.\n",
      "---\n",
      "Incluye: Material técnico, arnés, casco, cuerdas, mosquetones, crampones, raquetas, casco…\n",
      "---\n",
      "Precio: 150€/p.\n",
      "---\n",
      "\n",
      "---\n",
      "\n",
      "---\n",
      "\n",
      "---\n",
      "Descripción:\n",
      "---\n",
      "Realizaremos una ruta de dos días y una noche recorriendo diferentes lagunas y picos de la Sierra de Gredos durmiendo en los refugios que nos encontramos a nuestro paso y disfrutando de un paisaje inolvidable. las lagunas que visitamos son Laguna de Barco o Galin Gomez, Laguna de la Nava y Laguna de los Caballeros. Una aventura que no olvidareis.\n",
      "-----------------------\n",
      "---\n",
      "Donde se realizan: Sierra de Gredos, salida desde Navalguijo Sector Central\n",
      "---\n",
      "Tipo de ruta: Ida y vuelta.\n",
      "---\n",
      "Duración: 8 horas.\n",
      "---\n",
      "km: 25\n",
      "---\n",
      "Dificultad técnica: baja. (Dependerá de la estación del año).\n",
      "---\n",
      "Esfuerzo: Alto\n",
      "---\n",
      "Personas mínimas: 4 personas.\n",
      "---\n",
      "Puntos de interés: Ver el pico mas alto Extremadura, Laguna del Los Caballeros, avistamiento animales, Barrancos, Cascada 100 metros.\n",
      "---\n",
      "Época: Anual\n",
      "---\n",
      "Precio: 40€/P. Precios actividad invernal (Consultar) posibilidad de subida a las Covacha. Precio para grupos reducidos de 10 personas o más pedir presupuesto.\n",
      "---\n",
      "\n",
      "---\n",
      "\n",
      "---\n",
      "\n",
      "---\n",
      "Descripción:\n",
      "---\n",
      "Una ruta impresionante y muy desconocidas, con uno de los paisajes mas bestias de toda la Sierra de Gredos, con Valles cargados de magia y una cascada de mas de 100 metros de altura. En esta ruta tendremos que salir a primera hora del día ya que , no siendo difícil técnicamente, requiere mucho tiempo en realizar.\n",
      "-----------------------\n",
      "---\n",
      "Donde se realizan: Sierra de Gredos, salida desde la carretera de Nava de Barco. Sector Central\n",
      "---\n",
      "Tipo de ruta: Ida y vuelta.\n",
      "---\n",
      "Duración: 8 horas.\n",
      "---\n",
      "km: 19\n",
      "---\n",
      "Dificultad técnica: medio. (Dependerá de la estación del año).\n",
      "---\n",
      "Esfuerzo: Alto\n",
      "---\n",
      "Personas mínimas: 4 personas. (invierno máximo 2 personas)\n",
      "---\n",
      "Puntos de interés: Laguna de la Nava, Avistamiento de animales, barrancos, pozas, cascadas.\n",
      "---\n",
      "Época: Anual\n",
      "---\n",
      "Precio: 30€/ persona actividad sin nieve, 40€/persona actividad invernal (preguntar precio para grupos 10 o superior)\n",
      "---\n",
      "\n",
      "---\n",
      "\n",
      "---\n",
      "\n",
      "---\n",
      "Descripción:\n",
      "---\n",
      "Saliendo de Nava de barco, nos vamos metiendo en lo más profundo de Gredos, un paisaje que nos envuelve, mientras que sorteamos ríos y caminamos entre terreno de montaña. Esta laguna encierra un circo impresionante y acogedor al que muy pocos visitantes o montañeros se acercan por su lejanía.\n",
      "-----------------------\n"
     ]
    }
   ],
   "source": [
    "lista_detalles_limpia\n",
    "\n",
    "# Dividir cada elemento de la lista por '\\n' y mostrar las partes divididas\n",
    "for descripcion in lista_detalles_limpia:\n",
    "    partes = descripcion.split('\\n')\n",
    "    for parte in partes:\n",
    "        print(\"---\")\n",
    "        print(parte)\n",
    "    print('-----------------------' )  # Línea divisoria entre descripciones\n"
   ]
  },
  {
   "cell_type": "code",
   "execution_count": 844,
   "metadata": {},
   "outputs": [
    {
     "data": {
      "text/plain": [
       "13"
      ]
     },
     "execution_count": 844,
     "metadata": {},
     "output_type": "execute_result"
    }
   ],
   "source": [
    "\n",
    "len(lista_detalles_limpia)\n"
   ]
  },
  {
   "cell_type": "code",
   "execution_count": 845,
   "metadata": {},
   "outputs": [
    {
     "data": {
      "text/plain": [
       "['Donde se realizan:\\xa0Sierra de Gredos, salida desde la Plataforma de Gredos. Sector Central\\nTipo de ruta:\\xa0circular.\\nDuración:\\xa04 horas.\\nKm: 10\\nDificultad Técnica:\\xa0baja. (Dependerá de la estación del año).\\nEsfuerzo:\\xa0bajo – medio\\nPersonas mínimas:\\xa04 personas.\\nPuntos de interés:\\xa0Circo de Gredos, valle del Tietar, Refugio del Rey,\\xa0 paisajes impresionante, avistamiento de animales, Circo de montaña.\\nÉpoca:\\xa0Anua\\nPrecio:\\xa030€/ persona actividad sin nieve, 40€/persona actividad invernal (preguntar precio para grupos 10 o superior)\\n\\nDescripción:\\xa0\\nUna ruta perfecta para iniciarse en el mundo de la montaña, saldremos de la plataforma de Gredos, subiendo por Prado Pozas donde se encuentra el refugio de Reguero Llano, y empezar la subida al balcón de Gredos (Pico Morezon) una de las mejores vistas del Circo de Gredos y el valle del Tietar, podremos ver picos tan lejanos como Lo Montes de Toledo y La Mira, con el Pico Almanzor justo delante de nosotros, para bajar por el mítico refugio el Rey.',\n",
       " 'Donde se realizan:\\xa0Sierra de Gredos, salida desde la Plataforma de Gredos. Sector Central\\nTipo de ruta: Ida y vuelta.\\nDuración:\\xa07 horas.\\nkm: 16\\nDificultad técnica:\\xa0Media. (Dependerá de la estación del año).\\nEsfuerzo: Medio\\nPersonas mínimas:\\xa04 personas.\\nPuntos de interés:\\xa0Vistas de Galayos, valle del Tietar, Circo de Gredos,\\xa0 paisajes impresionante, avistamiento de animales, Circo de montaña.\\nÉpoca: Anual\\nPrecio: 30€/ persona actividad sin nieve, 40€/persona actividad invernal (preguntar precio para grupos 10 o superior)\\n\\n\\n\\nDescripción:\\nUna ruta perfecta para iniciarse en Gredos, siendo uno de los picos más visitados.\\nEl Pico de la Mira, desde este punto tendremos la mejores vistas de Galayos y el Puerto de Candeleda, con los picos del Circo de Gredos detrás de nosotros y viendo el espectacular valle del Tietar al Suereste.',\n",
       " 'Donde se realizan:\\xa0Sierra de Gredos, salida desde la Plataforma de Gredos. Sector Central\\nTipo de ruta: Ida y vuelta.\\nDuración:\\xa014 horas.\\nkm: 22\\nDificultad técnica:\\xa0Alta. (Dependerá de la estación del año).\\nEsfuerzo: Alto\\nPersonas mínimas: 1\\xa0personas.\\xa0\\nPuntos de interés:\\xa0Subida al pico mas alto del sistema central, Laguna Grande.\\nÉpoca: Anual\\n\\nPrecio:\\n\\nAlmanzor estival de mayo – octubre:\\n1 persona 250€/p, 2 personas 150€/p,\\xa03 personas 120€/p, 4 personas 110€/pConsulta precio para grupos a partir de 10 personas\\n\\nAlmanzor Invernal de Noviembre – Mayo:\\nEn invierno, es obligatoria la pernocta en el refugio el día antes. \\xa0(La pernocta no está incluida en el precio)\\n1 persona 270€/p, 2 personas 180€/p,\\xa03 personas 160€/p, 4 personas 150€/p\\n\\nDescripción:\\nSubir al pico Almanzor es una actividad impresionante, ya solo por ser el pico más alto del Sistema Central, dándonos unas vistas de todo el sistema central únicas. Pero para llegar al Almanzor tendremos que realizar una actividad dura con grandes desniveles y terreno técnico, pasando por paisajes impresionantes, como Laguna Grande en el Circo de Gredos, la Canal del Crampon o la Poza Anton.\\n\\n\\nEsta actividad se puede realizar en un solo día en verano, pero todo cambia en condiciones invernales ya que es preferible dormir en el refugio de Laguna Grande la noche anterior a la ascensión al Almanzor.',\n",
       " 'Donde se realizan:\\xa0Sierra de Gredos, Plataforma de Gredos, sector central.\\nTipo de ruta: Ida y vuelta.\\nDuración:\\xa05 horas.\\nKm: 12\\nDificultad técnica:\\xa0baja. (Dependerá de la estación del año).\\nEsfuerzo: Bajo – medio.\\nPersonas mínimas:\\xa04 personas.\\nPuntos de interés:\\xa0Vistas del Circo de Gredos. Pico del Almanzor, Laguna Grande helada en invierno, Pozas de agua cristalina, refugio Laguna Grande.\\nÉpoca: Anual\\nPrecio: 30€/ persona actividad sin nieve, 40€/persona actividad invernal (preguntar precio para grupos 10 o superior)\\n\\nDescripción:\\nRuta conocida por todos, La Laguna Grande de Gredos y el Circo de Gredos, es una ruta que si no hemos estado seguramente hallamos oído hablar de ella. Esta zona constituye unos de los centros neurológicos del Alpinismo Nacional, donde entre sus montañas se han formado grandes montañeros.',\n",
       " 'Donde se realizan:\\xa0Sierra de Gredos, salida desde Navalperal del Tormes. Sector central.\\nTipo de ruta: Ida y vuelta.\\nDuración:\\xa09 horas.\\nKm: 25\\nDificultad técnica:\\xa0media. (Dependerá de la estación del año).\\nEsfuerzo: alto\\nPersonas mínimas:\\xa04 personas.\\nPuntos de interés:\\xa0Lagunas, cascadas, animales, vegetación.\\nÉpoca: Anual\\nPrecio: 40€/ persona actividad sin nieve, 60€/persona actividad invernal (preguntar precio para grupos 10 o superior)\\n\\n\\n\\nDescripción:\\nSaliendo desde Navalperal del Tormes, nos dirigimos hacia la trasera del Circo de Gredos, El Circo de Cinco Lagunas, siguiendo La Garganta de los Pinos, una ruta dura, en la que tendremos que madrugar. (Posibilidad de realizar en dos días y dormir en refugio, preguntar precio).\\nCinco Lagunas sigue siendo uno de esos sitios de Gredos sonde todavía puedes encontrarte a ti mismo, un sitio de soledad, donde muy pocos se atreven adentrarse, ya sea por la dureza de la actividad o el desconocimiento de la misma.',\n",
       " 'Donde se realizan:\\xa0Sierra de Bejar, salida desde la Plataforma del Travieso, sector occidental\\nTipo de ruta: Ida y vuelta. (Posibilidad de circular por la Dehesa)\\nDuración:\\xa07 horas.\\nkm: 12\\nDificultad técnica:\\xa0Media. (Dependerá de la estación del año).\\nEsfuerzo: medio.\\nPersonas mínimas:\\xa04 personas.\\nPuntos de interés:\\xa0Nacimiento del Rio Cuerpo de Hombre, vistas del Circo. Impresionantes vistas de los diferentes sectores de Gredos y la meseta.\\nÉpoca: Anual\\nPrecio: 30€/ persona actividad sin nieve, 40€/persona actividad invernal (preguntar precio para grupos 10 o superior)\\n\\n\\nDescripción:\\nUna de las rutas más características de la Sierra de Béjar, en la que disfrutamos, de las vistas de toda la meseta, pasando por uno de los pueblos más característicos de la zona de Béjar, Candelario y como premio el Circo de Hoya Moros uno de los sitio mas especiales de todo Gredos, sonde nace el río Cuerpo de Hombre, dejando a su paso unos preciosos meandros, esta actividad en imprescindible para conocer la Sierra de Béjar.',\n",
       " 'Localización: Sierra de Bejar, Gredos Oeste\\xa0(Salamanca)\\nTiempo: 3,5 horas\\nDificultad técnica: baja\\nEsfuerzo: bajo\\nKm: 8 km.\\nPunto más alto: 2355 metros\\nPrecio: \\xa025€\\n\\n\\n\\nDescripción:\\nSe trata de una ruta facil, bonita y apta para todo tipo de públicos y perfecta para iniciarse en el mundo de la montaña. En esta ruta con raquetas de nieve recorremos los circos de la Cardosa y Becedas\\xa0 subiendo a uno de los puntos más altos de Salamanca, el Canchal Negro, situado en la Cuerda del Calvitero, donde tenemos vistas del los macizos de la Sierra de Gredos, Central y Occidental, viendo los picos más característicos, como el Almanzor, La Covacha y La Ceja.',\n",
       " 'Localización: Sierra de Bejar, Gredos Oeste\\xa0(Salamanca)\\nTiempo: 4,5 horas\\nDificultad técnica: baja – media\\nEsfuerzo: Medio\\nKm: 14 km.\\nPunto más alto: 2400 metros\\nPrecio: 30€\\n\\n\\n\\nDescripción:\\nUn clásico de la Sierra de Béjar, subir al Calvitero es tradición en esta sierra tan hermosa. Es una ruta facil técnicamente, un poco más dura, que el Canchal Negro por su distancia pero técnicamente se parecen mucho. En esta ruta tendremos una vistas espectaculares de Gredos, sierra de Francia y Gata y nos acercaremos a ver el Circo de Hoya Moros que nos quedara al Oeste.',\n",
       " 'Donde se realizan:\\xa0Sierra de Béjar, salida desde la plataforma del travieso. Sector occidental.\\nTipo de ruta: circular.\\nDuración: 8 horas.\\nkm: 16\\nDificultad técnica:\\xa0medio. (Dependerá de la estación del año).\\nEsfuerzo: Alto\\nPersonas mínimas:\\xa04 personas. (invierno máximo 2 personas)\\nPuntos de interés:\\xa0Circo de Hoya Moros, Canchal de la Ceja, Calvitero, Los Hermanitos, Paisajes, Lagunas.\\nÉpoca: Anual\\nPrecio: 30€/ persona actividad sin nieve, 40€/persona actividad invernal (preguntar precio para grupos 10 o superior)\\n\\n\\n\\nDescripción:\\nEl Calvitero, Canchal de La Ceja y Torreón, la ruta para conocer toda la Sierra de Béjar, una actividad completa para recorrer todos los picos importantes, con la mejores vistas.\\n\\n\\nLa actividad comienza en la plataforma de las estación de Esquí de la Covatilla, recorriendo toda la cuerda del Calvitero, En esta ruta recorreremos los puntos más altos de la provincia de Salamanca, en Canchal de la Ceja con 2428 metros de altitud y el Punto mas alto de Extremadura, el Torreón (Calviatero)con 2400 metros. Durante la travesía veremos el Circo de Hoya Moros, lugar mágico para la escalada, donde nace el río Cuerpo de Hombre, con majestuosos picos, Los Dos Hermanitos, lagunas como las del Trampal, que las dejaremos al sureste y iremos viendo las Sierras de nos rodean, Sierra de Francia al Oeste, el Circo de Gredos al Oeste, los Valles de Ambroz al sur-oeste para terminar en la Cima de Torreón justo en el comienzo del Valle del Jerte al Sur-Este.',\n",
       " 'Donde se realizan:\\xa0Sierra de Gredos, aparcamiento carretera Nava de Barco. Sector Central.\\nTipo de ruta: Ida y vuelta.\\nDuración:\\xa07 horas.\\nKm: 21\\nDificultad técnica:\\xa0baja. (Dependerá de la estación del año).\\nEsfuerzo: medio.\\nPersonas mínimas:\\xa04 personas.\\nPuntos de interés:\\xa0Vistas del Circo. Pico de La Covacha, El Juraco, Azagaya.\\nÉpoca: Anual\\nPrecio: 30€/ persona actividad sin nieve, 40€/persona actividad invernal (preguntar precio para grupos 10 o superior)\\n\\n\\n\\nDescripción:\\nNo es una ruta muy transitada, al contrario que el vecino y tan concurrido Circo de Gredos, a pesar de tener poco que envidiar a tan afamado lugar. El circo lo forman algunas de las cumbres más importantes de la Sierra de Gredos como son la puntiaguda cumbre de Las Azagayas (2.367 m.), el pico Covacha (2.395 m.) o El Juraco (2.383 m.)\\n\\n\\nLa Laguna de Galín Gómez, también conocida como Laguna del Barco, se asienta a los pies de un bonito circo de origen glaciar situado en la vertiente norte de la Sierra de Gredos. La ruta de subida hasta ésta laguna desde el Puerto de Umbrías está señalizada como sendero.',\n",
       " 'Donde se realizan:\\xa0 Sierra de Gredos, aparcamiento carretera Nava de Barco. Sector Central.\\nTipo de ruta: Circular\\nDuración:\\xa02 días, una noche.\\nkm: 26\\nDificultad técnica:\\xa0alta. (Dependerá de la estación del año).\\nEsfuerzo: Muy alto\\nPersonas mínimas:\\xa02 personas.\\nPuntos de interés:\\xa0Ascensión picos característicos de la zona, vista de las tres Lagunas, vivac de montaña.\\nÉpoca: Primavera – otoño.\\nMaterial necesario: Necesitaremos equipo propio de montaña, Mochila 50l, botas de montaña de caña alta, ropa técnica y de abrigo, saco de dormir, funda vivac.\\nIncluye:\\xa0Material técnico, arnés, casco, cuerdas, mosquetones, crampones, raquetas, casco…\\nPrecio: 150€/p.\\n\\n\\n\\nDescripción:\\nRealizaremos una ruta de dos días y una noche recorriendo diferentes lagunas y picos de la Sierra de Gredos durmiendo en los refugios que nos encontramos a nuestro paso y disfrutando de un paisaje inolvidable. las lagunas que visitamos son Laguna de Barco o Galin Gomez, Laguna de la Nava y Laguna de los Caballeros. Una aventura que no olvidareis.',\n",
       " 'Donde se realizan:\\xa0Sierra de Gredos, salida desde Navalguijo Sector Central\\nTipo de ruta: Ida y vuelta.\\nDuración:\\xa08 horas.\\nkm: 25\\nDificultad técnica:\\xa0baja. (Dependerá de la estación del año).\\nEsfuerzo: Alto\\nPersonas mínimas:\\xa04 personas.\\nPuntos de interés:\\xa0Ver el pico mas alto Extremadura, Laguna del Los Caballeros, avistamiento animales, Barrancos, Cascada 100 metros.\\nÉpoca: Anual\\nPrecio: 40€/P. Precios actividad invernal (Consultar) posibilidad de subida a las Covacha. Precio para grupos reducidos de 10 personas o más pedir presupuesto.\\n\\n\\n\\nDescripción:\\nUna ruta impresionante y muy desconocidas, con uno de los paisajes mas bestias de toda la Sierra de Gredos, con Valles cargados de magia y una cascada de mas de 100 metros de altura. En esta ruta tendremos que salir a primera hora del día ya que , no siendo difícil técnicamente, requiere mucho tiempo en realizar.',\n",
       " 'Donde se realizan:\\xa0Sierra de Gredos, salida desde la carretera de Nava de Barco. Sector Central\\nTipo de ruta: Ida y vuelta.\\nDuración: 8 horas.\\nkm: 19\\nDificultad técnica:\\xa0medio. (Dependerá de la estación del año).\\nEsfuerzo: Alto\\nPersonas mínimas:\\xa04 personas. (invierno máximo 2 personas)\\nPuntos de interés:\\xa0Laguna de la Nava, Avistamiento de animales, barrancos, pozas, cascadas.\\nÉpoca: Anual\\nPrecio: 30€/ persona actividad sin nieve, 40€/persona actividad invernal (preguntar precio para grupos 10 o superior)\\n\\n\\n\\nDescripción:\\nSaliendo de Nava de barco, nos vamos metiendo en lo más profundo de Gredos, un paisaje que nos envuelve, mientras que sorteamos ríos y caminamos entre terreno de montaña. Esta laguna encierra un circo impresionante y acogedor al que muy pocos visitantes o montañeros se acercan por su lejanía.']"
      ]
     },
     "execution_count": 845,
     "metadata": {},
     "output_type": "execute_result"
    }
   ],
   "source": [
    "lista_detalles_limpia"
   ]
  },
  {
   "cell_type": "code",
   "execution_count": 934,
   "metadata": {},
   "outputs": [
    {
     "name": "stdout",
     "output_type": "stream",
     "text": [
      "Donde se realizan: Sierra de Gredos, salida desde la Plataforma de Gredos. Sector Central\n",
      "Tipo de ruta: circular.\n",
      "Duración: 4 horas.\n",
      "Km: 10\n",
      "Dificultad Técnica: baja. (Dependerá de la estación del año).\n",
      "Esfuerzo: bajo – medio\n",
      "Personas mínimas: 4 personas.\n",
      "Puntos de interés: Circo de Gredos, valle del Tietar, Refugio del Rey,  paisajes impresionante, avistamiento de animales, Circo de montaña.\n",
      "Época: Anua\n",
      "Precio: 30€/ persona actividad sin nieve, 40€/persona actividad invernal (preguntar precio para grupos 10 o superior)\n",
      "\n",
      "Descripción: \n",
      "Una ruta perfecta para iniciarse en el mundo de la montaña, saldremos de la plataforma de Gredos, subiendo por Prado Pozas donde se encuentra el refugio de Reguero Llano, y empezar la subida al balcón de Gredos (Pico Morezon) una de las mejores vistas del Circo de Gredos y el valle del Tietar, podremos ver picos tan lejanos como Lo Montes de Toledo y La Mira, con el Pico Almanzor justo delante de nosotros, para bajar por el mítico refugio el Rey.\n"
     ]
    }
   ],
   "source": [
    "for detalles in lista_detalles_limpia:\n",
    "    print(detalles)\n",
    "    break"
   ]
  },
  {
   "cell_type": "code",
   "execution_count": 935,
   "metadata": {},
   "outputs": [
    {
     "data": {
      "text/plain": [
       "['Donde se realizan:\\xa0Sierra de Gredos, salida desde la Plataforma de Gredos. Sector Central\\nTipo de ruta:\\xa0circular.\\nDuración:\\xa04 horas.\\nKm: 10\\nDificultad Técnica:\\xa0baja. (Dependerá de la estación del año).\\nEsfuerzo:\\xa0bajo – medio\\nPersonas mínimas:\\xa04 personas.\\nPuntos de interés:\\xa0Circo de Gredos, valle del Tietar, Refugio del Rey,\\xa0 paisajes impresionante, avistamiento de animales, Circo de montaña.\\nÉpoca:\\xa0Anua\\nPrecio:\\xa030€/ persona actividad sin nieve, 40€/persona actividad invernal (preguntar precio para grupos 10 o superior)\\n\\nDescripción:\\xa0\\nUna ruta perfecta para iniciarse en el mundo de la montaña, saldremos de la plataforma de Gredos, subiendo por Prado Pozas donde se encuentra el refugio de Reguero Llano, y empezar la subida al balcón de Gredos (Pico Morezon) una de las mejores vistas del Circo de Gredos y el valle del Tietar, podremos ver picos tan lejanos como Lo Montes de Toledo y La Mira, con el Pico Almanzor justo delante de nosotros, para bajar por el mítico refugio el Rey.',\n",
       " 'Donde se realizan:\\xa0Sierra de Gredos, salida desde la Plataforma de Gredos. Sector Central\\nTipo de ruta: Ida y vuelta.\\nDuración:\\xa07 horas.\\nkm: 16\\nDificultad técnica:\\xa0Media. (Dependerá de la estación del año).\\nEsfuerzo: Medio\\nPersonas mínimas:\\xa04 personas.\\nPuntos de interés:\\xa0Vistas de Galayos, valle del Tietar, Circo de Gredos,\\xa0 paisajes impresionante, avistamiento de animales, Circo de montaña.\\nÉpoca: Anual\\nPrecio: 30€/ persona actividad sin nieve, 40€/persona actividad invernal (preguntar precio para grupos 10 o superior)\\n\\n\\n\\nDescripción:\\nUna ruta perfecta para iniciarse en Gredos, siendo uno de los picos más visitados.\\nEl Pico de la Mira, desde este punto tendremos la mejores vistas de Galayos y el Puerto de Candeleda, con los picos del Circo de Gredos detrás de nosotros y viendo el espectacular valle del Tietar al Suereste.',\n",
       " 'Donde se realizan:\\xa0Sierra de Gredos, salida desde la Plataforma de Gredos. Sector Central\\nTipo de ruta: Ida y vuelta.\\nDuración:\\xa014 horas.\\nkm: 22\\nDificultad técnica:\\xa0Alta. (Dependerá de la estación del año).\\nEsfuerzo: Alto\\nPersonas mínimas: 1\\xa0personas.\\xa0\\nPuntos de interés:\\xa0Subida al pico mas alto del sistema central, Laguna Grande.\\nÉpoca: Anual\\n\\nPrecio:\\n\\nAlmanzor estival de mayo – octubre:\\n1 persona 250€/p, 2 personas 150€/p,\\xa03 personas 120€/p, 4 personas 110€/pConsulta precio para grupos a partir de 10 personas\\n\\nAlmanzor Invernal de Noviembre – Mayo:\\nEn invierno, es obligatoria la pernocta en el refugio el día antes. \\xa0(La pernocta no está incluida en el precio)\\n1 persona 270€/p, 2 personas 180€/p,\\xa03 personas 160€/p, 4 personas 150€/p\\n\\nDescripción:\\nSubir al pico Almanzor es una actividad impresionante, ya solo por ser el pico más alto del Sistema Central, dándonos unas vistas de todo el sistema central únicas. Pero para llegar al Almanzor tendremos que realizar una actividad dura con grandes desniveles y terreno técnico, pasando por paisajes impresionantes, como Laguna Grande en el Circo de Gredos, la Canal del Crampon o la Poza Anton.\\n\\n\\nEsta actividad se puede realizar en un solo día en verano, pero todo cambia en condiciones invernales ya que es preferible dormir en el refugio de Laguna Grande la noche anterior a la ascensión al Almanzor.',\n",
       " 'Donde se realizan:\\xa0Sierra de Gredos, Plataforma de Gredos, sector central.\\nTipo de ruta: Ida y vuelta.\\nDuración:\\xa05 horas.\\nKm: 12\\nDificultad técnica:\\xa0baja. (Dependerá de la estación del año).\\nEsfuerzo: Bajo – medio.\\nPersonas mínimas:\\xa04 personas.\\nPuntos de interés:\\xa0Vistas del Circo de Gredos. Pico del Almanzor, Laguna Grande helada en invierno, Pozas de agua cristalina, refugio Laguna Grande.\\nÉpoca: Anual\\nPrecio: 30€/ persona actividad sin nieve, 40€/persona actividad invernal (preguntar precio para grupos 10 o superior)\\n\\nDescripción:\\nRuta conocida por todos, La Laguna Grande de Gredos y el Circo de Gredos, es una ruta que si no hemos estado seguramente hallamos oído hablar de ella. Esta zona constituye unos de los centros neurológicos del Alpinismo Nacional, donde entre sus montañas se han formado grandes montañeros.',\n",
       " 'Donde se realizan:\\xa0Sierra de Gredos, salida desde Navalperal del Tormes. Sector central.\\nTipo de ruta: Ida y vuelta.\\nDuración:\\xa09 horas.\\nKm: 25\\nDificultad técnica:\\xa0media. (Dependerá de la estación del año).\\nEsfuerzo: alto\\nPersonas mínimas:\\xa04 personas.\\nPuntos de interés:\\xa0Lagunas, cascadas, animales, vegetación.\\nÉpoca: Anual\\nPrecio: 40€/ persona actividad sin nieve, 60€/persona actividad invernal (preguntar precio para grupos 10 o superior)\\n\\n\\n\\nDescripción:\\nSaliendo desde Navalperal del Tormes, nos dirigimos hacia la trasera del Circo de Gredos, El Circo de Cinco Lagunas, siguiendo La Garganta de los Pinos, una ruta dura, en la que tendremos que madrugar. (Posibilidad de realizar en dos días y dormir en refugio, preguntar precio).\\nCinco Lagunas sigue siendo uno de esos sitios de Gredos sonde todavía puedes encontrarte a ti mismo, un sitio de soledad, donde muy pocos se atreven adentrarse, ya sea por la dureza de la actividad o el desconocimiento de la misma.',\n",
       " 'Donde se realizan:\\xa0Sierra de Bejar, salida desde la Plataforma del Travieso, sector occidental\\nTipo de ruta: Ida y vuelta. (Posibilidad de circular por la Dehesa)\\nDuración:\\xa07 horas.\\nkm: 12\\nDificultad técnica:\\xa0Media. (Dependerá de la estación del año).\\nEsfuerzo: medio.\\nPersonas mínimas:\\xa04 personas.\\nPuntos de interés:\\xa0Nacimiento del Rio Cuerpo de Hombre, vistas del Circo. Impresionantes vistas de los diferentes sectores de Gredos y la meseta.\\nÉpoca: Anual\\nPrecio: 30€/ persona actividad sin nieve, 40€/persona actividad invernal (preguntar precio para grupos 10 o superior)\\n\\n\\nDescripción:\\nUna de las rutas más características de la Sierra de Béjar, en la que disfrutamos, de las vistas de toda la meseta, pasando por uno de los pueblos más característicos de la zona de Béjar, Candelario y como premio el Circo de Hoya Moros uno de los sitio mas especiales de todo Gredos, sonde nace el río Cuerpo de Hombre, dejando a su paso unos preciosos meandros, esta actividad en imprescindible para conocer la Sierra de Béjar.',\n",
       " 'Localización: Sierra de Bejar, Gredos Oeste\\xa0(Salamanca)\\nTiempo: 3,5 horas\\nDificultad técnica: baja\\nEsfuerzo: bajo\\nKm: 8 km.\\nPunto más alto: 2355 metros\\nPrecio: \\xa025€\\n\\n\\n\\nDescripción:\\nSe trata de una ruta facil, bonita y apta para todo tipo de públicos y perfecta para iniciarse en el mundo de la montaña. En esta ruta con raquetas de nieve recorremos los circos de la Cardosa y Becedas\\xa0 subiendo a uno de los puntos más altos de Salamanca, el Canchal Negro, situado en la Cuerda del Calvitero, donde tenemos vistas del los macizos de la Sierra de Gredos, Central y Occidental, viendo los picos más característicos, como el Almanzor, La Covacha y La Ceja.',\n",
       " 'Localización: Sierra de Bejar, Gredos Oeste\\xa0(Salamanca)\\nTiempo: 4,5 horas\\nDificultad técnica: baja – media\\nEsfuerzo: Medio\\nKm: 14 km.\\nPunto más alto: 2400 metros\\nPrecio: 30€\\n\\n\\n\\nDescripción:\\nUn clásico de la Sierra de Béjar, subir al Calvitero es tradición en esta sierra tan hermosa. Es una ruta facil técnicamente, un poco más dura, que el Canchal Negro por su distancia pero técnicamente se parecen mucho. En esta ruta tendremos una vistas espectaculares de Gredos, sierra de Francia y Gata y nos acercaremos a ver el Circo de Hoya Moros que nos quedara al Oeste.',\n",
       " 'Donde se realizan:\\xa0Sierra de Béjar, salida desde la plataforma del travieso. Sector occidental.\\nTipo de ruta: circular.\\nDuración: 8 horas.\\nkm: 16\\nDificultad técnica:\\xa0medio. (Dependerá de la estación del año).\\nEsfuerzo: Alto\\nPersonas mínimas:\\xa04 personas. (invierno máximo 2 personas)\\nPuntos de interés:\\xa0Circo de Hoya Moros, Canchal de la Ceja, Calvitero, Los Hermanitos, Paisajes, Lagunas.\\nÉpoca: Anual\\nPrecio: 30€/ persona actividad sin nieve, 40€/persona actividad invernal (preguntar precio para grupos 10 o superior)\\n\\n\\n\\nDescripción:\\nEl Calvitero, Canchal de La Ceja y Torreón, la ruta para conocer toda la Sierra de Béjar, una actividad completa para recorrer todos los picos importantes, con la mejores vistas.\\n\\n\\nLa actividad comienza en la plataforma de las estación de Esquí de la Covatilla, recorriendo toda la cuerda del Calvitero, En esta ruta recorreremos los puntos más altos de la provincia de Salamanca, en Canchal de la Ceja con 2428 metros de altitud y el Punto mas alto de Extremadura, el Torreón (Calviatero)con 2400 metros. Durante la travesía veremos el Circo de Hoya Moros, lugar mágico para la escalada, donde nace el río Cuerpo de Hombre, con majestuosos picos, Los Dos Hermanitos, lagunas como las del Trampal, que las dejaremos al sureste y iremos viendo las Sierras de nos rodean, Sierra de Francia al Oeste, el Circo de Gredos al Oeste, los Valles de Ambroz al sur-oeste para terminar en la Cima de Torreón justo en el comienzo del Valle del Jerte al Sur-Este.',\n",
       " 'Donde se realizan:\\xa0Sierra de Gredos, aparcamiento carretera Nava de Barco. Sector Central.\\nTipo de ruta: Ida y vuelta.\\nDuración:\\xa07 horas.\\nKm: 21\\nDificultad técnica:\\xa0baja. (Dependerá de la estación del año).\\nEsfuerzo: medio.\\nPersonas mínimas:\\xa04 personas.\\nPuntos de interés:\\xa0Vistas del Circo. Pico de La Covacha, El Juraco, Azagaya.\\nÉpoca: Anual\\nPrecio: 30€/ persona actividad sin nieve, 40€/persona actividad invernal (preguntar precio para grupos 10 o superior)\\n\\n\\n\\nDescripción:\\nNo es una ruta muy transitada, al contrario que el vecino y tan concurrido Circo de Gredos, a pesar de tener poco que envidiar a tan afamado lugar. El circo lo forman algunas de las cumbres más importantes de la Sierra de Gredos como son la puntiaguda cumbre de Las Azagayas (2.367 m.), el pico Covacha (2.395 m.) o El Juraco (2.383 m.)\\n\\n\\nLa Laguna de Galín Gómez, también conocida como Laguna del Barco, se asienta a los pies de un bonito circo de origen glaciar situado en la vertiente norte de la Sierra de Gredos. La ruta de subida hasta ésta laguna desde el Puerto de Umbrías está señalizada como sendero.',\n",
       " 'Donde se realizan:\\xa0 Sierra de Gredos, aparcamiento carretera Nava de Barco. Sector Central.\\nTipo de ruta: Circular\\nDuración:\\xa02 días, una noche.\\nkm: 26\\nDificultad técnica:\\xa0alta. (Dependerá de la estación del año).\\nEsfuerzo: Muy alto\\nPersonas mínimas:\\xa02 personas.\\nPuntos de interés:\\xa0Ascensión picos característicos de la zona, vista de las tres Lagunas, vivac de montaña.\\nÉpoca: Primavera – otoño.\\nMaterial necesario: Necesitaremos equipo propio de montaña, Mochila 50l, botas de montaña de caña alta, ropa técnica y de abrigo, saco de dormir, funda vivac.\\nIncluye:\\xa0Material técnico, arnés, casco, cuerdas, mosquetones, crampones, raquetas, casco…\\nPrecio: 150€/p.\\n\\n\\n\\nDescripción:\\nRealizaremos una ruta de dos días y una noche recorriendo diferentes lagunas y picos de la Sierra de Gredos durmiendo en los refugios que nos encontramos a nuestro paso y disfrutando de un paisaje inolvidable. las lagunas que visitamos son Laguna de Barco o Galin Gomez, Laguna de la Nava y Laguna de los Caballeros. Una aventura que no olvidareis.',\n",
       " 'Donde se realizan:\\xa0Sierra de Gredos, salida desde Navalguijo Sector Central\\nTipo de ruta: Ida y vuelta.\\nDuración:\\xa08 horas.\\nkm: 25\\nDificultad técnica:\\xa0baja. (Dependerá de la estación del año).\\nEsfuerzo: Alto\\nPersonas mínimas:\\xa04 personas.\\nPuntos de interés:\\xa0Ver el pico mas alto Extremadura, Laguna del Los Caballeros, avistamiento animales, Barrancos, Cascada 100 metros.\\nÉpoca: Anual\\nPrecio: 40€/P. Precios actividad invernal (Consultar) posibilidad de subida a las Covacha. Precio para grupos reducidos de 10 personas o más pedir presupuesto.\\n\\n\\n\\nDescripción:\\nUna ruta impresionante y muy desconocidas, con uno de los paisajes mas bestias de toda la Sierra de Gredos, con Valles cargados de magia y una cascada de mas de 100 metros de altura. En esta ruta tendremos que salir a primera hora del día ya que , no siendo difícil técnicamente, requiere mucho tiempo en realizar.',\n",
       " 'Donde se realizan:\\xa0Sierra de Gredos, salida desde la carretera de Nava de Barco. Sector Central\\nTipo de ruta: Ida y vuelta.\\nDuración: 8 horas.\\nkm: 19\\nDificultad técnica:\\xa0medio. (Dependerá de la estación del año).\\nEsfuerzo: Alto\\nPersonas mínimas:\\xa04 personas. (invierno máximo 2 personas)\\nPuntos de interés:\\xa0Laguna de la Nava, Avistamiento de animales, barrancos, pozas, cascadas.\\nÉpoca: Anual\\nPrecio: 30€/ persona actividad sin nieve, 40€/persona actividad invernal (preguntar precio para grupos 10 o superior)\\n\\n\\n\\nDescripción:\\nSaliendo de Nava de barco, nos vamos metiendo en lo más profundo de Gredos, un paisaje que nos envuelve, mientras que sorteamos ríos y caminamos entre terreno de montaña. Esta laguna encierra un circo impresionante y acogedor al que muy pocos visitantes o montañeros se acercan por su lejanía.']"
      ]
     },
     "execution_count": 935,
     "metadata": {},
     "output_type": "execute_result"
    }
   ],
   "source": [
    "lista_detalles_limpia"
   ]
  },
  {
   "cell_type": "code",
   "execution_count": 847,
   "metadata": {},
   "outputs": [
    {
     "data": {
      "text/plain": [
       "['Pico Morenzon',\n",
       " 'Pico de la Mira',\n",
       " 'Pico Almanzor',\n",
       " 'Laguna Grande',\n",
       " 'Cinco Lagunas',\n",
       " 'Circo de  Hoya Moros',\n",
       " 'Canchal Negro',\n",
       " 'El Calvitero',\n",
       " 'Canchal de la Ceja, Torreon, Calvitero',\n",
       " 'Laguna de Barco',\n",
       " 'Tres Lagunas, La Nava, Barco y Caballeros',\n",
       " 'Laguna de los Caballeros',\n",
       " 'Laguna de la Nava']"
      ]
     },
     "execution_count": 847,
     "metadata": {},
     "output_type": "execute_result"
    }
   ],
   "source": [
    "lista_nombres_limpia"
   ]
  },
  {
   "cell_type": "code",
   "execution_count": 940,
   "metadata": {},
   "outputs": [],
   "source": [
    "diccionario_detalles = {\n",
    "    \"Título\": [],\n",
    "    \"Donde se realizan\": [],\n",
    "    \"Tipo de ruta\": [],\n",
    "    \"Duración\": [],\n",
    "    \"km\": [],\n",
    "    \"Dificultad técnica\": [],\n",
    "    \"Esfuerzo\": [],\n",
    "    \"Descripción\": []\n",
    "}\n",
    "\n",
    "diccionario_detalles[\"Título\"] = lista_nombres_limpia\n",
    "\n",
    "for informacion in lista_detalles_limpia:\n",
    "    partes = informacion.split('\\n')\n",
    "    partes = [parte.split(':') for parte in partes]\n",
    "    \n",
    "    tipo_de_ruta = \"NA\"  # Establecer un valor predeterminado \"NA\"\n",
    "\n",
    "    for indice, elemento in enumerate(partes):\n",
    "        if elemento[0] == \"Donde se realizan\" or elemento[0] == \"Localización\":\n",
    "            diccionario_detalles[\"Donde se realizan\"].append(elemento[1].strip())\n",
    "\n",
    "        if elemento[0] == \"Tipo de ruta\":\n",
    "            tipo_de_ruta = elemento[1].strip()\n",
    "\n",
    "        if elemento[0] == \"Duración\" or elemento[0] == \"Tiempo\":\n",
    "            diccionario_detalles[\"Duración\"].append(elemento[1].strip())\n",
    "\n",
    "        if elemento[0] == \"km\" or elemento[0] == \"Km\":\n",
    "            diccionario_detalles[\"km\"].append(elemento[1].strip())\n",
    "\n",
    "        if elemento[0] == \"Dificultad técnica\" or elemento[0] == \"Dificultad Técnica\":\n",
    "            diccionario_detalles[\"Dificultad técnica\"].append(elemento[1].strip())\n",
    "\n",
    "        if elemento[0] == \"Esfuerzo\":\n",
    "            diccionario_detalles[\"Esfuerzo\"].append(elemento[1].strip())\n",
    "            \n",
    "        if elemento[0] == \"Descripción\":\n",
    "            descripcion = elemento[1].replace('\\xa0', ' ').strip()\n",
    "            diccionario_detalles[\"Descripción\"].append(elemento[1].strip())\n",
    "\n",
    "    # Asignar el tipo de ruta después de salir del bucle\n",
    "    diccionario_detalles[\"Tipo de ruta\"].append(tipo_de_ruta)\n"
   ]
  },
  {
   "cell_type": "code",
   "execution_count": 886,
   "metadata": {},
   "outputs": [
    {
     "data": {
      "text/plain": [
       "13"
      ]
     },
     "execution_count": 886,
     "metadata": {},
     "output_type": "execute_result"
    }
   ],
   "source": [
    "len(diccionario_detalles[\"Título\"])"
   ]
  },
  {
   "cell_type": "code",
   "execution_count": 887,
   "metadata": {},
   "outputs": [
    {
     "data": {
      "text/plain": [
       "13"
      ]
     },
     "execution_count": 887,
     "metadata": {},
     "output_type": "execute_result"
    }
   ],
   "source": [
    "len(diccionario_detalles[\"Donde se realizan\"])"
   ]
  },
  {
   "cell_type": "code",
   "execution_count": 905,
   "metadata": {},
   "outputs": [
    {
     "data": {
      "text/plain": [
       "13"
      ]
     },
     "execution_count": 905,
     "metadata": {},
     "output_type": "execute_result"
    }
   ],
   "source": [
    "len(diccionario_detalles[\"Duración\"])"
   ]
  },
  {
   "cell_type": "code",
   "execution_count": 889,
   "metadata": {},
   "outputs": [
    {
     "data": {
      "text/plain": [
       "13"
      ]
     },
     "execution_count": 889,
     "metadata": {},
     "output_type": "execute_result"
    }
   ],
   "source": [
    "len(diccionario_detalles[\"Dificultad técnica\"])"
   ]
  },
  {
   "cell_type": "code",
   "execution_count": 890,
   "metadata": {},
   "outputs": [
    {
     "data": {
      "text/plain": [
       "13"
      ]
     },
     "execution_count": 890,
     "metadata": {},
     "output_type": "execute_result"
    }
   ],
   "source": [
    "len(diccionario_detalles[\"Esfuerzo\"])"
   ]
  },
  {
   "cell_type": "code",
   "execution_count": 943,
   "metadata": {},
   "outputs": [
    {
     "data": {
      "text/plain": [
       "13"
      ]
     },
     "execution_count": 943,
     "metadata": {},
     "output_type": "execute_result"
    }
   ],
   "source": [
    "len(diccionario_detalles[\"Descripción\"])"
   ]
  },
  {
   "cell_type": "code",
   "execution_count": 892,
   "metadata": {},
   "outputs": [
    {
     "data": {
      "text/plain": [
       "13"
      ]
     },
     "execution_count": 892,
     "metadata": {},
     "output_type": "execute_result"
    }
   ],
   "source": [
    "len(diccionario_detalles[\"Tipo de ruta\"])"
   ]
  },
  {
   "cell_type": "code",
   "execution_count": 942,
   "metadata": {},
   "outputs": [
    {
     "data": {
      "text/plain": [
       "13"
      ]
     },
     "execution_count": 942,
     "metadata": {},
     "output_type": "execute_result"
    }
   ],
   "source": [
    "len(diccionario_detalles[\"Descripción\"])"
   ]
  },
  {
   "cell_type": "code",
   "execution_count": 941,
   "metadata": {},
   "outputs": [
    {
     "data": {
      "text/plain": [
       "['', '', '', '', '', '', '', '', '', '', '', '', '']"
      ]
     },
     "execution_count": 941,
     "metadata": {},
     "output_type": "execute_result"
    }
   ],
   "source": [
    "diccionario_detalles[\"Descripción\"]"
   ]
  },
  {
   "cell_type": "code",
   "execution_count": 916,
   "metadata": {},
   "outputs": [
    {
     "name": "stdout",
     "output_type": "stream",
     "text": [
      "13\n",
      "13\n",
      "13\n",
      "13\n",
      "13\n",
      "13\n",
      "13\n",
      "13\n"
     ]
    }
   ],
   "source": [
    "print(len(diccionario_detalles['Título']))\n",
    "print(len(diccionario_detalles['Donde se realizan']))\n",
    "print(len(diccionario_detalles['Tipo de ruta']))\n",
    "print(len(diccionario_detalles['Duración']))\n",
    "print(len(diccionario_detalles['km']))\n",
    "print(len(diccionario_detalles['Dificultad técnica']))\n",
    "print(len(diccionario_detalles['Esfuerzo']))\n",
    "print(len(diccionario_detalles['Descripción']))\n",
    "\n"
   ]
  },
  {
   "cell_type": "code",
   "execution_count": null,
   "metadata": {},
   "outputs": [],
   "source": []
  },
  {
   "cell_type": "code",
   "execution_count": 917,
   "metadata": {},
   "outputs": [
    {
     "data": {
      "text/html": [
       "<div>\n",
       "<style scoped>\n",
       "    .dataframe tbody tr th:only-of-type {\n",
       "        vertical-align: middle;\n",
       "    }\n",
       "\n",
       "    .dataframe tbody tr th {\n",
       "        vertical-align: top;\n",
       "    }\n",
       "\n",
       "    .dataframe thead th {\n",
       "        text-align: right;\n",
       "    }\n",
       "</style>\n",
       "<table border=\"1\" class=\"dataframe\">\n",
       "  <thead>\n",
       "    <tr style=\"text-align: right;\">\n",
       "      <th></th>\n",
       "      <th>Título</th>\n",
       "      <th>Donde se realizan</th>\n",
       "      <th>Tipo de ruta</th>\n",
       "      <th>Duración</th>\n",
       "      <th>km</th>\n",
       "      <th>Dificultad técnica</th>\n",
       "      <th>Esfuerzo</th>\n",
       "      <th>Descripción</th>\n",
       "    </tr>\n",
       "  </thead>\n",
       "  <tbody>\n",
       "    <tr>\n",
       "      <th>0</th>\n",
       "      <td>Pico Morenzon</td>\n",
       "      <td>Sierra de Gredos, salida desde la Plataforma d...</td>\n",
       "      <td>circular.</td>\n",
       "      <td>4 horas.</td>\n",
       "      <td>10</td>\n",
       "      <td>baja. (Dependerá de la estación del año).</td>\n",
       "      <td>bajo – medio</td>\n",
       "      <td></td>\n",
       "    </tr>\n",
       "    <tr>\n",
       "      <th>1</th>\n",
       "      <td>Pico de la Mira</td>\n",
       "      <td>Sierra de Gredos, salida desde la Plataforma d...</td>\n",
       "      <td>Ida y vuelta.</td>\n",
       "      <td>7 horas.</td>\n",
       "      <td>16</td>\n",
       "      <td>Media. (Dependerá de la estación del año).</td>\n",
       "      <td>Medio</td>\n",
       "      <td></td>\n",
       "    </tr>\n",
       "    <tr>\n",
       "      <th>2</th>\n",
       "      <td>Pico Almanzor</td>\n",
       "      <td>Sierra de Gredos, salida desde la Plataforma d...</td>\n",
       "      <td>Ida y vuelta.</td>\n",
       "      <td>14 horas.</td>\n",
       "      <td>22</td>\n",
       "      <td>Alta. (Dependerá de la estación del año).</td>\n",
       "      <td>Alto</td>\n",
       "      <td></td>\n",
       "    </tr>\n",
       "    <tr>\n",
       "      <th>3</th>\n",
       "      <td>Laguna Grande</td>\n",
       "      <td>Sierra de Gredos, Plataforma de Gredos, sector...</td>\n",
       "      <td>Ida y vuelta.</td>\n",
       "      <td>5 horas.</td>\n",
       "      <td>12</td>\n",
       "      <td>baja. (Dependerá de la estación del año).</td>\n",
       "      <td>Bajo – medio.</td>\n",
       "      <td></td>\n",
       "    </tr>\n",
       "    <tr>\n",
       "      <th>4</th>\n",
       "      <td>Cinco Lagunas</td>\n",
       "      <td>Sierra de Gredos, salida desde Navalperal del ...</td>\n",
       "      <td>Ida y vuelta.</td>\n",
       "      <td>9 horas.</td>\n",
       "      <td>25</td>\n",
       "      <td>media. (Dependerá de la estación del año).</td>\n",
       "      <td>alto</td>\n",
       "      <td></td>\n",
       "    </tr>\n",
       "    <tr>\n",
       "      <th>5</th>\n",
       "      <td>Circo de  Hoya Moros</td>\n",
       "      <td>Sierra de Bejar, salida desde la Plataforma de...</td>\n",
       "      <td>Ida y vuelta. (Posibilidad de circular por la ...</td>\n",
       "      <td>7 horas.</td>\n",
       "      <td>12</td>\n",
       "      <td>Media. (Dependerá de la estación del año).</td>\n",
       "      <td>medio.</td>\n",
       "      <td></td>\n",
       "    </tr>\n",
       "    <tr>\n",
       "      <th>6</th>\n",
       "      <td>Canchal Negro</td>\n",
       "      <td>Sierra de Bejar, Gredos Oeste (Salamanca)</td>\n",
       "      <td>NA</td>\n",
       "      <td>3,5 horas</td>\n",
       "      <td>8 km.</td>\n",
       "      <td>baja</td>\n",
       "      <td>bajo</td>\n",
       "      <td></td>\n",
       "    </tr>\n",
       "    <tr>\n",
       "      <th>7</th>\n",
       "      <td>El Calvitero</td>\n",
       "      <td>Sierra de Bejar, Gredos Oeste (Salamanca)</td>\n",
       "      <td>NA</td>\n",
       "      <td>4,5 horas</td>\n",
       "      <td>14 km.</td>\n",
       "      <td>baja – media</td>\n",
       "      <td>Medio</td>\n",
       "      <td></td>\n",
       "    </tr>\n",
       "    <tr>\n",
       "      <th>8</th>\n",
       "      <td>Canchal de la Ceja, Torreon, Calvitero</td>\n",
       "      <td>Sierra de Béjar, salida desde la plataforma de...</td>\n",
       "      <td>circular.</td>\n",
       "      <td>8 horas.</td>\n",
       "      <td>16</td>\n",
       "      <td>medio. (Dependerá de la estación del año).</td>\n",
       "      <td>Alto</td>\n",
       "      <td></td>\n",
       "    </tr>\n",
       "    <tr>\n",
       "      <th>9</th>\n",
       "      <td>Laguna de Barco</td>\n",
       "      <td>Sierra de Gredos, aparcamiento carretera Nava ...</td>\n",
       "      <td>Ida y vuelta.</td>\n",
       "      <td>7 horas.</td>\n",
       "      <td>21</td>\n",
       "      <td>baja. (Dependerá de la estación del año).</td>\n",
       "      <td>medio.</td>\n",
       "      <td></td>\n",
       "    </tr>\n",
       "    <tr>\n",
       "      <th>10</th>\n",
       "      <td>Tres Lagunas, La Nava, Barco y Caballeros</td>\n",
       "      <td>Sierra de Gredos, aparcamiento carretera Nava ...</td>\n",
       "      <td>Circular</td>\n",
       "      <td>2 días, una noche.</td>\n",
       "      <td>26</td>\n",
       "      <td>alta. (Dependerá de la estación del año).</td>\n",
       "      <td>Muy alto</td>\n",
       "      <td></td>\n",
       "    </tr>\n",
       "    <tr>\n",
       "      <th>11</th>\n",
       "      <td>Laguna de los Caballeros</td>\n",
       "      <td>Sierra de Gredos, salida desde Navalguijo Sect...</td>\n",
       "      <td>Ida y vuelta.</td>\n",
       "      <td>8 horas.</td>\n",
       "      <td>25</td>\n",
       "      <td>baja. (Dependerá de la estación del año).</td>\n",
       "      <td>Alto</td>\n",
       "      <td></td>\n",
       "    </tr>\n",
       "    <tr>\n",
       "      <th>12</th>\n",
       "      <td>Laguna de la Nava</td>\n",
       "      <td>Sierra de Gredos, salida desde la carretera de...</td>\n",
       "      <td>Ida y vuelta.</td>\n",
       "      <td>8 horas.</td>\n",
       "      <td>19</td>\n",
       "      <td>medio. (Dependerá de la estación del año).</td>\n",
       "      <td>Alto</td>\n",
       "      <td></td>\n",
       "    </tr>\n",
       "  </tbody>\n",
       "</table>\n",
       "</div>"
      ],
      "text/plain": [
       "                                       Título  \\\n",
       "0                               Pico Morenzon   \n",
       "1                             Pico de la Mira   \n",
       "2                               Pico Almanzor   \n",
       "3                               Laguna Grande   \n",
       "4                               Cinco Lagunas   \n",
       "5                        Circo de  Hoya Moros   \n",
       "6                               Canchal Negro   \n",
       "7                                El Calvitero   \n",
       "8      Canchal de la Ceja, Torreon, Calvitero   \n",
       "9                             Laguna de Barco   \n",
       "10  Tres Lagunas, La Nava, Barco y Caballeros   \n",
       "11                   Laguna de los Caballeros   \n",
       "12                          Laguna de la Nava   \n",
       "\n",
       "                                    Donde se realizan  \\\n",
       "0   Sierra de Gredos, salida desde la Plataforma d...   \n",
       "1   Sierra de Gredos, salida desde la Plataforma d...   \n",
       "2   Sierra de Gredos, salida desde la Plataforma d...   \n",
       "3   Sierra de Gredos, Plataforma de Gredos, sector...   \n",
       "4   Sierra de Gredos, salida desde Navalperal del ...   \n",
       "5   Sierra de Bejar, salida desde la Plataforma de...   \n",
       "6           Sierra de Bejar, Gredos Oeste (Salamanca)   \n",
       "7           Sierra de Bejar, Gredos Oeste (Salamanca)   \n",
       "8   Sierra de Béjar, salida desde la plataforma de...   \n",
       "9   Sierra de Gredos, aparcamiento carretera Nava ...   \n",
       "10  Sierra de Gredos, aparcamiento carretera Nava ...   \n",
       "11  Sierra de Gredos, salida desde Navalguijo Sect...   \n",
       "12  Sierra de Gredos, salida desde la carretera de...   \n",
       "\n",
       "                                         Tipo de ruta            Duración  \\\n",
       "0                                           circular.            4 horas.   \n",
       "1                                       Ida y vuelta.            7 horas.   \n",
       "2                                       Ida y vuelta.           14 horas.   \n",
       "3                                       Ida y vuelta.            5 horas.   \n",
       "4                                       Ida y vuelta.            9 horas.   \n",
       "5   Ida y vuelta. (Posibilidad de circular por la ...            7 horas.   \n",
       "6                                                  NA           3,5 horas   \n",
       "7                                                  NA           4,5 horas   \n",
       "8                                           circular.            8 horas.   \n",
       "9                                       Ida y vuelta.            7 horas.   \n",
       "10                                           Circular  2 días, una noche.   \n",
       "11                                      Ida y vuelta.            8 horas.   \n",
       "12                                      Ida y vuelta.            8 horas.   \n",
       "\n",
       "        km                          Dificultad técnica       Esfuerzo  \\\n",
       "0       10   baja. (Dependerá de la estación del año).   bajo – medio   \n",
       "1       16  Media. (Dependerá de la estación del año).          Medio   \n",
       "2       22   Alta. (Dependerá de la estación del año).           Alto   \n",
       "3       12   baja. (Dependerá de la estación del año).  Bajo – medio.   \n",
       "4       25  media. (Dependerá de la estación del año).           alto   \n",
       "5       12  Media. (Dependerá de la estación del año).         medio.   \n",
       "6    8 km.                                        baja           bajo   \n",
       "7   14 km.                                baja – media          Medio   \n",
       "8       16  medio. (Dependerá de la estación del año).           Alto   \n",
       "9       21   baja. (Dependerá de la estación del año).         medio.   \n",
       "10      26   alta. (Dependerá de la estación del año).       Muy alto   \n",
       "11      25   baja. (Dependerá de la estación del año).           Alto   \n",
       "12      19  medio. (Dependerá de la estación del año).           Alto   \n",
       "\n",
       "   Descripción  \n",
       "0               \n",
       "1               \n",
       "2               \n",
       "3               \n",
       "4               \n",
       "5               \n",
       "6               \n",
       "7               \n",
       "8               \n",
       "9               \n",
       "10              \n",
       "11              \n",
       "12              "
      ]
     },
     "execution_count": 917,
     "metadata": {},
     "output_type": "execute_result"
    }
   ],
   "source": [
    "df = pd.DataFrame(diccionario_detalles)\n",
    "df.to_csv('rutas_excursiones.csv')\n",
    "df"
   ]
  }
 ],
 "metadata": {
  "kernelspec": {
   "display_name": "base",
   "language": "python",
   "name": "python3"
  },
  "language_info": {
   "codemirror_mode": {
    "name": "ipython",
    "version": 3
   },
   "file_extension": ".py",
   "mimetype": "text/x-python",
   "name": "python",
   "nbconvert_exporter": "python",
   "pygments_lexer": "ipython3",
   "version": "3.11.5"
  },
  "orig_nbformat": 4
 },
 "nbformat": 4,
 "nbformat_minor": 2
}
